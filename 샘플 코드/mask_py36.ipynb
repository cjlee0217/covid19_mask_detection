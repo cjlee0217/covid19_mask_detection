{
 "cells": [
  {
   "cell_type": "code",
   "execution_count": 1,
   "metadata": {},
   "outputs": [],
   "source": [
    "import os\n",
    "import sys\n",
    "import random\n",
    "import argparse\n",
    "import numpy as np\n",
    "from PIL import Image, ImageFile"
   ]
  },
  {
   "cell_type": "code",
   "execution_count": 6,
   "metadata": {},
   "outputs": [
    {
     "data": {
      "text/plain": [
       "'C:\\\\Users\\\\USER\\\\Downloads\\\\jupyter_notebook'"
      ]
     },
     "execution_count": 6,
     "metadata": {},
     "output_type": "execute_result"
    }
   ],
   "source": [
    "os.path.dirname(os.path.abspath('no_mask.jpg'))"
   ]
  },
  {
   "cell_type": "code",
   "execution_count": 22,
   "metadata": {},
   "outputs": [],
   "source": [
    "IMAGE_DIR = os.path.join(os.path.dirname(os.path.abspath('no_mask.jpg')), 'images')\n",
    "DEFAULT_IMAGE_PATH = os.path.join(IMAGE_DIR, 'default-mask.png')\n",
    "BLACK_IMAGE_PATH = os.path.join(IMAGE_DIR, 'black-mask.png')\n",
    "BLUE_IMAGE_PATH = os.path.join(IMAGE_DIR, 'blue-mask.png')\n",
    "RED_IMAGE_PATH = os.path.join(IMAGE_DIR, 'red-mask.png')\n",
    "NOSE_IMAGE_PATH = os.path.join(IMAGE_DIR, 'nose_mask.png')\n",
    "CHIN_IMAGE_PATH = os.path.join(IMAGE_DIR, 'chin_mask.png')"
   ]
  },
  {
   "cell_type": "code",
   "execution_count": 23,
   "metadata": {},
   "outputs": [
    {
     "data": {
      "text/plain": [
       "'C:\\\\Users\\\\USER\\\\Downloads\\\\jupyter_notebook\\\\images\\\\default-mask.png'"
      ]
     },
     "execution_count": 23,
     "metadata": {},
     "output_type": "execute_result"
    }
   ],
   "source": [
    "DEFAULT_IMAGE_PATH"
   ]
  },
  {
   "cell_type": "code",
   "execution_count": 24,
   "metadata": {},
   "outputs": [],
   "source": [
    "def cli():\n",
    "    parser = argparse.ArgumentParser(description='Wear a face mask in the given picture.')\n",
    "    parser.add_argument('pic_path', help='Picture path.')\n",
    "    parser.add_argument('--show', action='store_true', help='Whether show picture with mask or not.')\n",
    "    parser.add_argument('--model', default='hog', choices=['hog', 'cnn'], help='Which face detection model to use.')\n",
    "    group = parser.add_mutually_exclusive_group()\n",
    "    group.add_argument('--black', action='store_true', help='Wear black mask')\n",
    "    group.add_argument('--blue', action='store_true', help='Wear blue mask')\n",
    "    group.add_argument('--red', action='store_true', help='Wear red mask')\n",
    "    args = parser.parse_args()\n",
    "\n",
    "    pic_path = args.pic_path\n",
    "    if not os.path.exists(args.pic_path):\n",
    "        print(f'Picture {pic_path} not exists.')\n",
    "        sys.exit(1)\n",
    "\n",
    "    if args.black:\n",
    "        mask_path = BLACK_IMAGE_PATH\n",
    "    elif args.blue:\n",
    "        mask_path = BLUE_IMAGE_PATH\n",
    "    elif args.red:\n",
    "        mask_path = RED_IMAGE_PATH\n",
    "    else:\n",
    "        mask_path = DEFAULT_IMAGE_PATH\n",
    "\n",
    "    FaceMasker(pic_path, mask_path, args.show, args.model).mask()"
   ]
  },
  {
   "cell_type": "code",
   "execution_count": 121,
   "metadata": {},
   "outputs": [],
   "source": [
    "def create_mask(image_path):\n",
    "    pic_path = image_path\n",
    "    mask_path = \"images/nose_mask.png\"\n",
    "    show = False\n",
    "    model = \"hog\"\n",
    "    FaceMasker(pic_path, mask_path, show, model).mask()"
   ]
  },
  {
   "cell_type": "code",
   "execution_count": 130,
   "metadata": {},
   "outputs": [],
   "source": [
    "class FaceMasker:\n",
    "    KEY_FACIAL_FEATURES = ('nose_bridge', 'chin', 'top_lip', 'nose_tip')\n",
    "\n",
    "    def __init__(self, face_path, mask_path, show=False, model='hog'):\n",
    "        self.face_path = face_path\n",
    "        self.mask_path = mask_path\n",
    "        self.show = show\n",
    "        self.model = model\n",
    "        self._face_img: ImageFile = None\n",
    "        self._mask_img: ImageFile = None\n",
    "\n",
    "    def mask(self):\n",
    "        import face_recognition\n",
    "\n",
    "        face_image_np = face_recognition.load_image_file(self.face_path)\n",
    "        face_locations = face_recognition.face_locations(face_image_np, model=self.model)\n",
    "        face_landmarks = face_recognition.face_landmarks(face_image_np, face_locations)\n",
    "        self._face_img = Image.fromarray(face_image_np)\n",
    "        self._mask_img = Image.open(self.mask_path)\n",
    "\n",
    "        found_face = False\n",
    "        for face_landmark in face_landmarks:\n",
    "            # check whether facial features meet requirement\n",
    "            skip = False\n",
    "            for facial_feature in self.KEY_FACIAL_FEATURES:\n",
    "                if facial_feature not in face_landmark:\n",
    "                    skip = True\n",
    "                    break\n",
    "            if skip:\n",
    "                continue\n",
    "\n",
    "            # mask face\n",
    "            found_face = True\n",
    "            self._mask_face(face_landmark)\n",
    "\n",
    "        if found_face:\n",
    "            if self.show:\n",
    "                self._face_img.show()\n",
    "\n",
    "            # save\n",
    "            self._save()\n",
    "        else:\n",
    "            print('Found no face.')\n",
    "\n",
    "    def _mask_face(self, face_landmark: dict):\n",
    "        nose_tip = face_landmark['nose_tip']\n",
    "        nose_tip_point = nose_tip[len(nose_tip) // 2]\n",
    "        nose_tip_v = np.array(nose_tip_point)\n",
    "        \n",
    "        top_lip = face_landmark['top_lip']\n",
    "        top_lip_point = top_lip[len(top_lip) // 2]\n",
    "        top_lip_v = np.array(top_lip_point)\n",
    "        \n",
    "        nose_bridge = face_landmark['nose_bridge']\n",
    "        nose_point = nose_bridge[len(nose_bridge) * 1 // 4]\n",
    "        nose_v = np.array(nose_point)\n",
    "\n",
    "        chin = face_landmark['chin']\n",
    "        chin_len = len(chin)\n",
    "        chin_bottom_point = chin[chin_len // 2]\n",
    "        chin_bottom_v = np.array(chin_bottom_point)\n",
    "        chin_left_point = chin[chin_len // 8]\n",
    "        chin_right_point = chin[chin_len * 7 // 8]\n",
    "\n",
    "        # split mask and resize\n",
    "        width = self._mask_img.width\n",
    "        height = self._mask_img.height\n",
    "        width_ratio = 1.2\n",
    "#         new_height = int(np.linalg.norm(nose_v - chin_bottom_v))\n",
    "        new_height = int(np.linalg.norm(nose_tip_v - chin_bottom_v))\n",
    "\n",
    "        # left\n",
    "        mask_left_img = self._mask_img.crop((0, 0, width // 2, height))\n",
    "#         mask_left_width = self.get_distance_from_point_to_line(chin_left_point, nose_point, chin_bottom_point)\n",
    "        mask_left_width = self.get_distance_from_point_to_line(chin_left_point, nose_tip_point, chin_bottom_point)\n",
    "        mask_left_width = int(mask_left_width * width_ratio)\n",
    "        mask_left_img = mask_left_img.resize((mask_left_width, new_height))\n",
    "\n",
    "        # right\n",
    "        mask_right_img = self._mask_img.crop((width // 2, 0, width, height))\n",
    "#         mask_right_width = self.get_distance_from_point_to_line(chin_right_point, nose_point, chin_bottom_point)\n",
    "        mask_right_width = self.get_distance_from_point_to_line(chin_right_point, nose_tip_point, chin_bottom_point)\n",
    "        mask_right_width = int(mask_right_width * width_ratio)\n",
    "        mask_right_img = mask_right_img.resize((mask_right_width, new_height))\n",
    "\n",
    "        # merge mask\n",
    "        size = (mask_left_img.width + mask_right_img.width, new_height)\n",
    "        mask_img = Image.new('RGBA', size)\n",
    "        mask_img.paste(mask_left_img, (0, 0), mask_left_img)\n",
    "        mask_img.paste(mask_right_img, (mask_left_img.width, 0), mask_right_img)\n",
    "\n",
    "        # rotate mask\n",
    "#         angle = np.arctan2(chin_bottom_point[1] - nose_point[1], chin_bottom_point[0] - nose_point[0])\n",
    "        angle = np.arctan2(chin_bottom_point[1] - nose_tip_point[1], chin_bottom_point[0] - nose_tip_point[0])\n",
    "        rotated_mask_img = mask_img.rotate(angle, expand=True)\n",
    "\n",
    "        # calculate mask location\n",
    "#         center_x = (nose_point[0] + chin_bottom_point[0]) // 2\n",
    "        center_x = (nose_tip_point[0] + chin_bottom_point[0]) // 2\n",
    "#         center_y = (nose_point[1] + chin_bottom_point[1]) // 2\n",
    "        center_y = (nose_tip_point[1] + chin_bottom_point[1]) // 2\n",
    "\n",
    "        offset = mask_img.width // 2 - mask_left_img.width\n",
    "        radian = angle * np.pi / 180\n",
    "        box_x = center_x + int(offset * np.cos(radian)) - rotated_mask_img.width // 2\n",
    "        box_y = center_y + int(offset * np.sin(radian)) - rotated_mask_img.height // 2\n",
    "\n",
    "        # add mask\n",
    "        self._face_img.paste(mask_img, (box_x, box_y), mask_img)\n",
    "\n",
    "    def _save(self):\n",
    "        path_splits = os.path.splitext(self.face_path)\n",
    "#         new_face_path = path_splits[0] + '-with-mask' + path_splits[1]\n",
    "#         new_face_path = path_splits[0] + '-with-mask(nose_tip)' + path_splits[1]\n",
    "#         new_face_path = path_splits[0] + '-with-chin-mask' + path_splits[1]\n",
    "#         new_face_path = path_splits[0] + '-with-chin-mask(nose_tip)' + path_splits[1]\n",
    "#         new_face_path = path_splits[0] + '-with-nose-mask' + path_splits[1]\n",
    "        new_face_path = path_splits[0] + '-with-nose-mask(nose_tip)' + path_splits[1]\n",
    "        self._face_img.save(new_face_path)\n",
    "        print(f'Save to {new_face_path}')\n",
    "\n",
    "    @staticmethod\n",
    "    def get_distance_from_point_to_line(point, line_point1, line_point2):\n",
    "        distance = np.abs((line_point2[1] - line_point1[1]) * point[0] +\n",
    "                          (line_point1[0] - line_point2[0]) * point[1] +\n",
    "                          (line_point2[0] - line_point1[0]) * line_point1[1] +\n",
    "                          (line_point1[1] - line_point2[1]) * line_point1[0]) / \\\n",
    "                   np.sqrt((line_point2[1] - line_point1[1]) * (line_point2[1] - line_point1[1]) +\n",
    "                           (line_point1[0] - line_point2[0]) * (line_point1[0] - line_point2[0]))\n",
    "        return int(distance)"
   ]
  },
  {
   "cell_type": "code",
   "execution_count": 133,
   "metadata": {},
   "outputs": [
    {
     "name": "stdout",
     "output_type": "stream",
     "text": [
      "Save to 2인이상2-with-nose-mask(nose_tip).jpg\n"
     ]
    }
   ],
   "source": [
    "if __name__ == '__main__':\n",
    "    #cli()\n",
    "    create_mask('2인이상2.jpg')"
   ]
  },
  {
   "cell_type": "code",
   "execution_count": null,
   "metadata": {},
   "outputs": [],
   "source": []
  },
  {
   "cell_type": "code",
   "execution_count": null,
   "metadata": {},
   "outputs": [],
   "source": []
  },
  {
   "cell_type": "code",
   "execution_count": 94,
   "metadata": {},
   "outputs": [],
   "source": [
    "import face_recognition\n",
    "face_image_np = face_recognition.load_image_file('장나라.jpg')\n",
    "face_locations = face_recognition.face_locations(face_image_np, model='hog')\n",
    "face_landmarks = face_recognition.face_landmarks(face_image_np, face_locations)"
   ]
  },
  {
   "cell_type": "code",
   "execution_count": 95,
   "metadata": {},
   "outputs": [
    {
     "data": {
      "text/plain": [
       "[(82, 527, 350, 260)]"
      ]
     },
     "execution_count": 95,
     "metadata": {},
     "output_type": "execute_result"
    }
   ],
   "source": [
    "face_locations"
   ]
  },
  {
   "cell_type": "code",
   "execution_count": 57,
   "metadata": {},
   "outputs": [],
   "source": [
    "KEY_FACIAL_FEATURES = ('nose_bridge', 'chin', 'top_lip', 'nose_tip')\n",
    "for face_landmark in face_landmarks:\n",
    "            # check whether facial features meet requirement\n",
    "    skip = False\n",
    "    for facial_feature in KEY_FACIAL_FEATURES:\n",
    "        if facial_feature not in face_landmark:\n",
    "            skip = True\n",
    "            break\n",
    "    if skip:\n",
    "        continue"
   ]
  },
  {
   "cell_type": "code",
   "execution_count": 42,
   "metadata": {},
   "outputs": [],
   "source": [
    "nose_bridge = face_landmark['nose_bridge']\n",
    "nose_point = nose_bridge[len(nose_bridge) * 1 // 4]\n",
    "nose_v = np.array(nose_point)"
   ]
  },
  {
   "cell_type": "code",
   "execution_count": 43,
   "metadata": {},
   "outputs": [
    {
     "data": {
      "text/plain": [
       "[(80, 61), (80, 66), (80, 72), (80, 77)]"
      ]
     },
     "execution_count": 43,
     "metadata": {},
     "output_type": "execute_result"
    }
   ],
   "source": [
    "nose_bridge"
   ]
  },
  {
   "cell_type": "code",
   "execution_count": 47,
   "metadata": {},
   "outputs": [],
   "source": [
    "chin = face_landmark['chin']\n",
    "chin_len = len(chin)\n",
    "chin_bottom_point = chin[chin_len // 2]\n",
    "chin_bottom_v = np.array(chin_bottom_point)\n",
    "chin_left_point = chin[chin_len // 8]\n",
    "chin_right_point = chin[chin_len * 7 // 8]"
   ]
  },
  {
   "cell_type": "code",
   "execution_count": 52,
   "metadata": {},
   "outputs": [
    {
     "data": {
      "text/plain": [
       "[(69, 85),\n",
       " (74, 84),\n",
       " (78, 83),\n",
       " (82, 83),\n",
       " (85, 83),\n",
       " (91, 82),\n",
       " (97, 83),\n",
       " (95, 84),\n",
       " (86, 85),\n",
       " (82, 86),\n",
       " (78, 85),\n",
       " (71, 85)]"
      ]
     },
     "execution_count": 52,
     "metadata": {},
     "output_type": "execute_result"
    }
   ],
   "source": [
    "top_lip = face_landmark['top_lip']\n",
    "top_lip"
   ]
  },
  {
   "cell_type": "code",
   "execution_count": 56,
   "metadata": {},
   "outputs": [
    {
     "data": {
      "text/plain": [
       "(97, 83)"
      ]
     },
     "execution_count": 56,
     "metadata": {},
     "output_type": "execute_result"
    }
   ],
   "source": [
    "top_lip_point = top_lip[len(top_lip) // 2]\n",
    "top_lip_point"
   ]
  },
  {
   "cell_type": "code",
   "execution_count": 54,
   "metadata": {},
   "outputs": [
    {
     "data": {
      "text/plain": [
       "(84, 107)"
      ]
     },
     "execution_count": 54,
     "metadata": {},
     "output_type": "execute_result"
    }
   ],
   "source": [
    "chin_bottom_point"
   ]
  },
  {
   "cell_type": "code",
   "execution_count": 59,
   "metadata": {},
   "outputs": [
    {
     "data": {
      "text/plain": [
       "(81, 81)"
      ]
     },
     "execution_count": 59,
     "metadata": {},
     "output_type": "execute_result"
    }
   ],
   "source": [
    "nose_tip = face_landmark['nose_tip']\n",
    "nose_tip_point = nose_tip[len(nose_tip) // 2]\n",
    "nose_tip_point"
   ]
  },
  {
   "cell_type": "code",
   "execution_count": null,
   "metadata": {},
   "outputs": [],
   "source": []
  }
 ],
 "metadata": {
  "kernelspec": {
   "display_name": "Py36",
   "language": "python",
   "name": "face_recognition"
  },
  "language_info": {
   "codemirror_mode": {
    "name": "ipython",
    "version": 3
   },
   "file_extension": ".py",
   "mimetype": "text/x-python",
   "name": "python",
   "nbconvert_exporter": "python",
   "pygments_lexer": "ipython3",
   "version": "3.6.12"
  }
 },
 "nbformat": 4,
 "nbformat_minor": 4
}
