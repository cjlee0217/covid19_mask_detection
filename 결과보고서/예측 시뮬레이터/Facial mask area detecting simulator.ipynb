{
 "cells": [
  {
   "cell_type": "markdown",
   "metadata": {},
   "source": [
    "### __import packages__"
   ]
  },
  {
   "cell_type": "code",
   "execution_count": null,
   "metadata": {},
   "outputs": [],
   "source": [
    "from Covid19 import MaskAreaDetector\n",
    "import cv2\n",
    "import time\n",
    "import matplotlib.pyplot as plt"
   ]
  },
  {
   "cell_type": "markdown",
   "metadata": {},
   "source": [
    "### __Create mask area detector object for image preprocessing__  \n",
    "※ before creating object, these files below should be within same directory as `Facial mask area detecting simulator.ipynb`  \n",
    "- haarcascade_eye.xml  \n",
    "- haarcascade_eye_tree_eyeglasses.xml  \n",
    "- haarcascade_frontface.xml  \n",
    "- haarcascade_lefteye_2splits.xml  \n",
    "---\n",
    "Location of files : [https://github.com/opencv/opencv/tree/master/data/haarcascades](https://github.com/opencv/opencv/tree/master/data/haarcascades)  "
   ]
  },
  {
   "cell_type": "code",
   "execution_count": null,
   "metadata": {},
   "outputs": [],
   "source": [
    "detector = MaskAreaDetector()"
   ]
  },
  {
   "cell_type": "markdown",
   "metadata": {},
   "source": [
    "### __Load pretrained model__  \n",
    "Location of files : [https://drive.google.com/drive/folders/1KazLH5eTck8fWfENTty76Ytss3Rgi3LY?usp=sharing](https://drive.google.com/drive/folders/1KazLH5eTck8fWfENTty76Ytss3Rgi3LY?usp=sharing)"
   ]
  },
  {
   "cell_type": "code",
   "execution_count": null,
   "metadata": {},
   "outputs": [],
   "source": [
    "from keras.models import load_model\n",
    "model_path='your model path'\n",
    "my_model=load_model(model_path+'model file name')"
   ]
  },
  {
   "cell_type": "markdown",
   "metadata": {},
   "source": [
    "### __Main code__"
   ]
  },
  {
   "cell_type": "code",
   "execution_count": null,
   "metadata": {
    "scrolled": false
   },
   "outputs": [],
   "source": [
    "import os\n",
    "img_path ='your image path'\n",
    "\n",
    "files = os.listdir(img_path)\n",
    "image_files = [file for file in files if file.endswith(\".jpg\")] # or any other format like png\n",
    "result_label = {0:'chin_mask', 1:'full_mask' , 2:'no_mask' , 3:'nose_mask'}\n",
    "result_color = {0:(0,127,255), 1:(0, 255, 0) , 2:(0, 0, 255) , 3:(0,127,255)}\n",
    "\n",
    "for file in image_files:\n",
    "    print(f'{file} loading')\n",
    "    test_image = cv2.imread(img_path+file)\n",
    "    time.sleep(1.5)\n",
    "    plt.figure()\n",
    "    ax = plt.gca()\n",
    "    ax.set_title('input raw image',fontsize=15)\n",
    "    plt.imshow(test_image[:,:,::-1])\n",
    "    plt.show()\n",
    "    print('='*65)\n",
    "    time.sleep(1.5)\n",
    "    eyes = detector.advanced_eye_detect(test_image)\n",
    "    if len(eyes)!=2:\n",
    "        print('Initial Detection Failed : not human or invalid image')\n",
    "        print('='*65)\n",
    "\n",
    "    else:\n",
    "        print('Initial Detection success')\n",
    "        rotated_image = detector.get_rotated_image(test_image,eyes)\n",
    "        rotated_eyes = detector.calculate_rotated_eyes(rotated_image)\n",
    "        print('='*65)\n",
    "        time.sleep(1.5)\n",
    "\n",
    "        if len(rotated_eyes)!=2:\n",
    "            print('Rotated Detection Failed : not human or invalid image')\n",
    "            print('='*65)\n",
    "\n",
    "        else:\n",
    "            print('Rotated Detection success')\n",
    "            print('='*65)\n",
    "            time.sleep(1.5)\n",
    "            current_mask_area = detector.extract_facial_mask_area(rotated_image,rotated_eyes)\n",
    "\n",
    "            time.sleep(1.5)\n",
    "            plt.figure()\n",
    "            ax = plt.gca()\n",
    "            ax.set_title('extracted mask area',fontsize=15)\n",
    "            plt.imshow(current_mask_area[:,:,::-1])\n",
    "            plt.show()\n",
    "\n",
    "            print('='*65)\n",
    "            time.sleep(1.5)\n",
    "            \n",
    "            current_mask_area = current_mask_area/255.0\n",
    "            current_mask_area = cv2.resize(current_mask_area,dsize=(90, 120))\n",
    "            test_in = current_mask_area.reshape((1,)+current_mask_area.shape)\n",
    "            result = my_model.predict(test_in)\n",
    "            print(result)\n",
    "            print(f'predicted result : {result_label[result.argmax()]}')\n",
    "            \n",
    "            test_image = cv2.resize(test_image,(128,128))\n",
    "            h,w,c = test_image.shape\n",
    "            cv2.putText(test_image,result_label[result.argmax()].split('_')[0],(h//4,w//2),cv2.FONT_HERSHEY_COMPLEX,1,\n",
    "                        result_color[result.argmax()],2,cv2.LINE_AA)\n",
    "            plt.figure()\n",
    "            ax = plt.gca()\n",
    "            ax.set_title('Predicted result',fontsize=15)\n",
    "            plt.imshow(test_image[:,:,::-1])\n",
    "            plt.show()            \n",
    "            print('='*65)\n",
    "            time.sleep(1.5)\n"
   ]
  }
 ],
 "metadata": {
  "kernelspec": {
   "display_name": "Python 3",
   "language": "python",
   "name": "python3"
  },
  "language_info": {
   "codemirror_mode": {
    "name": "ipython",
    "version": 3
   },
   "file_extension": ".py",
   "mimetype": "text/x-python",
   "name": "python",
   "nbconvert_exporter": "python",
   "pygments_lexer": "ipython3",
   "version": "3.8.3"
  }
 },
 "nbformat": 4,
 "nbformat_minor": 4
}
