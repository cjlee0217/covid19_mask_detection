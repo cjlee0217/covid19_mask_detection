{
 "cells": [
  {
   "cell_type": "code",
   "execution_count": 1,
   "metadata": {},
   "outputs": [],
   "source": [
    "import cv2\n",
    "import matplotlib.pyplot as plt"
   ]
  },
  {
   "cell_type": "markdown",
   "metadata": {},
   "source": [
    "__Cascade Classifiers 로드__"
   ]
  },
  {
   "cell_type": "code",
   "execution_count": 2,
   "metadata": {},
   "outputs": [],
   "source": [
    "face_cascade = cv2.CascadeClassifier('haarcascade_frontface.xml')\n",
    "eye_cascade = cv2.CascadeClassifier('haarcascade_eye.xml')\n",
    "glass_cascade = cv2.CascadeClassifier('haarcascade_eye_tree_eyeglasses.xml')"
   ]
  },
  {
   "cell_type": "markdown",
   "metadata": {},
   "source": [
    "__advanced_eye_detect 함수 정의__"
   ]
  },
  {
   "cell_type": "code",
   "execution_count": 44,
   "metadata": {},
   "outputs": [],
   "source": [
    "def advanced_eye_detect(img,cascade,info):\n",
    "    \n",
    "    ret_val=None\n",
    "    \n",
    "    img_gray =  cv2.cvtColor(img, cv2.COLOR_BGR2GRAY)\n",
    "        \n",
    "    eyes =cascade.detectMultiScale(img_gray,1.1,4)\n",
    "    \n",
    "    if (len(eyes)==0) or (eyes.shape[0]<2):\n",
    "        \n",
    "        if info == 'normal':\n",
    "            return advanced_eye_detect(img,glass_cascade,'glasses')\n",
    "        elif info == 'glasses':\n",
    "            return ret_val\n",
    "        \n",
    "    ret_val = eyes\n",
    "    return ret_val"
   ]
  },
  {
   "cell_type": "markdown",
   "metadata": {},
   "source": [
    "__get_aligned_ROI 함수 정의__"
   ]
  },
  {
   "cell_type": "code",
   "execution_count": 43,
   "metadata": {},
   "outputs": [],
   "source": [
    "def get_aligned_ROI(img , eyes , early_stop=False):\n",
    "    \n",
    "    eye_1 , eye_2 = eyes\n",
    "\n",
    "    if eye_1[0] < eye_2[0]:\n",
    "        left_eye = eye_1\n",
    "        right_eye = eye_2\n",
    "    else:\n",
    "        left_eye = eye_2\n",
    "        right_eye = eye_1\n",
    "        \n",
    "    left_eye_center = (int(left_eye[0] + (left_eye[2] / 2)), int(left_eye[1] + (left_eye[3] / 2)))\n",
    "    right_eye_center = (int(right_eye[0] + (right_eye[2]/2)), int(right_eye[1] + (right_eye[3]/2)))\n",
    "    \n",
    "    left_eye_x , left_eye_y = left_eye_center \n",
    "    right_eye_x , right_eye_y = right_eye_center\n",
    "\n",
    "    \n",
    "    delta_x = right_eye_x - left_eye_x\n",
    "    delta_y = right_eye_y - left_eye_y\n",
    "    \n",
    "    if early_stop:\n",
    "        return left_eye_x , left_eye_y , np.sqrt(delta_x**2 + delta_y**2)\n",
    "    \n",
    "    angle=np.arctan(delta_y/delta_x)\n",
    "    angle = (angle * 180) / np.pi\n",
    "    \n",
    "    h, w = img.shape[:2]\n",
    "    center = (w // 2, h // 2)\n",
    "    M = cv2.getRotationMatrix2D(center, (angle), 1.0)\n",
    "    rotated_img = cv2.warpAffine(img, M, (w, h))\n",
    "    \n",
    "    rotated_eyes =eye_cascade.detectMultiScale(rotated_img,1.1,4)\n",
    "    rotated_eyes\n",
    "    \n",
    "    \n",
    "    return rotated_eyes , rotated_img"
   ]
  },
  {
   "cell_type": "markdown",
   "metadata": {},
   "source": [
    "__메인 코드__"
   ]
  },
  {
   "cell_type": "code",
   "execution_count": null,
   "metadata": {},
   "outputs": [],
   "source": [
    "import os\n",
    "\n",
    "img_path = \"전체 사진이 모여있는 폴더 경로명\"\n",
    "files = os.listdir(img_path)\n",
    "images = [file for file in files if file.endswith(\".png\")]\n",
    "\n",
    "for image in images:\n",
    "    \n",
    "    if image.shape[0]<400 or image.shape[1]<400 :\n",
    "        w,h,c = image.shape\n",
    "        image = cv2.resize(image,(h*2,w*2))\n",
    "    \n",
    "    eyes = advanced_eye_detect(image,eye_cascade,'normal')\n",
    "    \n",
    "    if not eyes:\n",
    "        print('Detection Failed : not human or invalid image')\n",
    "        continue\n",
    "        \n",
    "    rotated_eyes , rotated_images = get_aligned_ROI(image,eyes,)\n",
    "    \n",
    "    pivot_x , pivot_y , L = get_aligned_ROI(rotated_images,rotated_eyes , early_stop=True)\n",
    "    \n",
    "    ROI = image[pivot_x-(0.6*L):pivot_x+(1.6*L) , pivot_y-(0.6*L):pivot_y+(1.8*L)]\n",
    "    \n",
    "    # 여기서부터 지원님꺼랑 붙이면 될듯"
   ]
  }
 ],
 "metadata": {
  "kernelspec": {
   "display_name": "Python 3",
   "language": "python",
   "name": "python3"
  },
  "language_info": {
   "codemirror_mode": {
    "name": "ipython",
    "version": 3
   },
   "file_extension": ".py",
   "mimetype": "text/x-python",
   "name": "python",
   "nbconvert_exporter": "python",
   "pygments_lexer": "ipython3",
   "version": "3.8.3"
  }
 },
 "nbformat": 4,
 "nbformat_minor": 2
}
