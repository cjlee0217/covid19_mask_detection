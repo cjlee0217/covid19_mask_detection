{
 "cells": [
  {
   "cell_type": "code",
   "execution_count": 1,
   "metadata": {},
   "outputs": [],
   "source": [
    "from keras.models import Model , Sequential\n",
    "from keras.layers import GlobalAveragePooling2D , Dropout , Dense , Activation\n",
    "from keras.layers import Conv2D , BatchNormalization , Flatten , MaxPooling2D\n",
    "from keras.preprocessing.image import ImageDataGenerator\n",
    "from keras.optimizers import Adam\n",
    "import cv2\n",
    "import numpy as np\n",
    "from keras.preprocessing import image_dataset_from_directory"
   ]
  },
  {
   "cell_type": "code",
   "execution_count": 2,
   "metadata": {},
   "outputs": [
    {
     "name": "stdout",
     "output_type": "stream",
     "text": [
      "Model: \"sequential\"\n",
      "_________________________________________________________________\n",
      "Layer (type)                 Output Shape              Param #   \n",
      "=================================================================\n",
      "conv2d (Conv2D)              (None, 116, 86, 32)       2432      \n",
      "_________________________________________________________________\n",
      "activation (Activation)      (None, 116, 86, 32)       0         \n",
      "_________________________________________________________________\n",
      "max_pooling2d (MaxPooling2D) (None, 58, 43, 32)        0         \n",
      "_________________________________________________________________\n",
      "conv2d_1 (Conv2D)            (None, 54, 39, 128)       102528    \n",
      "_________________________________________________________________\n",
      "activation_1 (Activation)    (None, 54, 39, 128)       0         \n",
      "_________________________________________________________________\n",
      "max_pooling2d_1 (MaxPooling2 (None, 27, 19, 128)       0         \n",
      "_________________________________________________________________\n",
      "flatten (Flatten)            (None, 65664)             0         \n",
      "_________________________________________________________________\n",
      "dense (Dense)                (None, 128)               8405120   \n",
      "_________________________________________________________________\n",
      "dense_1 (Dense)              (None, 4)                 516       \n",
      "=================================================================\n",
      "Total params: 8,510,596\n",
      "Trainable params: 8,510,596\n",
      "Non-trainable params: 0\n",
      "_________________________________________________________________\n"
     ]
    }
   ],
   "source": [
    "model = Sequential()\n",
    "\n",
    "model.add(Conv2D(input_shape = (90,120,3), filters = 32, kernel_size = (5,5), strides = (1,1)))\n",
    "model.add(Activation('relu'))\n",
    "model.add(MaxPooling2D(pool_size = (2,2)))\n",
    "\n",
    "model.add(Conv2D(filters = 128, kernel_size = (5,5), strides = (1,1)))\n",
    "#model.add(BatchNormalization())\n",
    "model.add(Activation('relu'))\n",
    "model.add(MaxPooling2D(pool_size = (2,2)))\n",
    "\n",
    "# model.add(Conv2D(filters = 16, kernel_size = (3,3), strides = (1,1)))\n",
    "# model.add(Activation('relu'))\n",
    "# model.add(MaxPooling2D(pool_size = (2,2)))\n",
    "\n",
    "\n",
    "model.add(Flatten())\n",
    "model.add(Dense(128, activation = 'relu'))\n",
    "#model.add(Dense(64, activation = 'relu'))\n",
    "model.add(Dense(4, activation = 'softmax'))\n",
    "\n",
    "adam = Adam(lr = 0.001)\n",
    "model.compile(loss = 'categorical_crossentropy', optimizer = adam, metrics = ['accuracy'])\n",
    "model.summary()"
   ]
  },
  {
   "cell_type": "code",
   "execution_count": 2,
   "metadata": {},
   "outputs": [],
   "source": [
    "train_datagen = ImageDataGenerator(rescale=1./255,\n",
    "                                   rotation_range=15,\n",
    "                                   width_shift_range=0.1,\n",
    "                                   height_shift_range=0.1,\n",
    "                                   shear_range=0.5,\n",
    "                                   zoom_range=[0.8, 2.0],\n",
    "                                   horizontal_flip=True,\n",
    "                                   vertical_flip=True,\n",
    "                                   fill_mode='nearest')\n",
    "\n",
    "validate_datagen = ImageDataGenerator(rescale=1./255.)\n",
    "test_datagen = ImageDataGenerator(rescale=1./255.)"
   ]
  },
  {
   "cell_type": "code",
   "execution_count": 3,
   "metadata": {},
   "outputs": [
    {
     "name": "stdout",
     "output_type": "stream",
     "text": [
      "Found 2800 images belonging to 4 classes.\n",
      "Found 800 images belonging to 4 classes.\n",
      "Found 400 images belonging to 4 classes.\n"
     ]
    }
   ],
   "source": [
    "save_path = 'D:/mask_data/split/'\n",
    "\n",
    "train_generator = train_datagen.flow_from_directory(save_path+'train/',\n",
    "                                                  batch_size=10,\n",
    "                                                    target_size=(90,120),\n",
    "                                                  class_mode='categorical')\n",
    "\n",
    "validation_generator = validate_datagen.flow_from_directory(save_path+'validate/',\n",
    "                                                      batch_size=10,\n",
    "                                                        target_size=(90,120),\n",
    "                                                      class_mode='categorical')\n",
    "\n",
    "test_generator = test_datagen.flow_from_directory(save_path+'test/',\n",
    "                                                      batch_size=10,\n",
    "                                                        target_size=(90,120),\n",
    "                                                      class_mode='categorical')"
   ]
  },
  {
   "cell_type": "code",
   "execution_count": 4,
   "metadata": {},
   "outputs": [
    {
     "data": {
      "text/plain": [
       "{'chin_mask': 0, 'full_mask': 1, 'no_mask': 2, 'nose_mask': 3}"
      ]
     },
     "execution_count": 4,
     "metadata": {},
     "output_type": "execute_result"
    }
   ],
   "source": [
    "train_generator.class_indices"
   ]
  },
  {
   "cell_type": "code",
   "execution_count": 7,
   "metadata": {},
   "outputs": [
    {
     "name": "stdout",
     "output_type": "stream",
     "text": [
      "Epoch 1/50\n",
      "280/280 [==============================] - 108s 387ms/step - loss: 0.6101 - accuracy: 0.7932 - val_loss: 0.5597 - val_accuracy: 0.7525\n",
      "Epoch 2/50\n",
      "280/280 [==============================] - 118s 422ms/step - loss: 0.3488 - accuracy: 0.8768 - val_loss: 0.1979 - val_accuracy: 0.9500\n",
      "Epoch 3/50\n",
      "280/280 [==============================] - 117s 416ms/step - loss: 0.2893 - accuracy: 0.9064 - val_loss: 0.1494 - val_accuracy: 0.9712\n",
      "Epoch 4/50\n",
      "280/280 [==============================] - 116s 414ms/step - loss: 0.2829 - accuracy: 0.9050 - val_loss: 0.1708 - val_accuracy: 0.9525\n",
      "Epoch 5/50\n",
      "280/280 [==============================] - 111s 396ms/step - loss: 0.2033 - accuracy: 0.9264 - val_loss: 0.1264 - val_accuracy: 0.9675\n",
      "Epoch 6/50\n",
      "280/280 [==============================] - 109s 388ms/step - loss: 0.2197 - accuracy: 0.9279 - val_loss: 0.1278 - val_accuracy: 0.9712\n",
      "Epoch 7/50\n",
      "280/280 [==============================] - 100s 359ms/step - loss: 0.2048 - accuracy: 0.9279 - val_loss: 0.1385 - val_accuracy: 0.9750\n",
      "Epoch 8/50\n",
      "280/280 [==============================] - 109s 391ms/step - loss: 0.2299 - accuracy: 0.9232 - val_loss: 0.2414 - val_accuracy: 0.8963\n",
      "Epoch 9/50\n",
      "280/280 [==============================] - 102s 366ms/step - loss: 0.2008 - accuracy: 0.9343 - val_loss: 0.1527 - val_accuracy: 0.9388\n",
      "Epoch 10/50\n",
      "280/280 [==============================] - 104s 372ms/step - loss: 0.2160 - accuracy: 0.9243 - val_loss: 0.1283 - val_accuracy: 0.9613\n",
      "Epoch 11/50\n",
      "280/280 [==============================] - 108s 386ms/step - loss: 0.1781 - accuracy: 0.9407 - val_loss: 0.0947 - val_accuracy: 0.9712\n",
      "Epoch 12/50\n",
      "280/280 [==============================] - 121s 431ms/step - loss: 0.1720 - accuracy: 0.9425 - val_loss: 0.1205 - val_accuracy: 0.9600\n",
      "Epoch 13/50\n",
      "280/280 [==============================] - 105s 376ms/step - loss: 0.1553 - accuracy: 0.9507 - val_loss: 0.0899 - val_accuracy: 0.9737\n",
      "Epoch 14/50\n",
      "280/280 [==============================] - 105s 375ms/step - loss: 0.1469 - accuracy: 0.9504 - val_loss: 0.1512 - val_accuracy: 0.9513\n",
      "Epoch 15/50\n",
      "280/280 [==============================] - 103s 366ms/step - loss: 0.1837 - accuracy: 0.9396 - val_loss: 0.1088 - val_accuracy: 0.9675\n",
      "Epoch 16/50\n",
      "280/280 [==============================] - 108s 385ms/step - loss: 0.1602 - accuracy: 0.9464 - val_loss: 0.1032 - val_accuracy: 0.9675\n",
      "Epoch 17/50\n",
      "280/280 [==============================] - 107s 382ms/step - loss: 0.1625 - accuracy: 0.9450 - val_loss: 0.0803 - val_accuracy: 0.9775\n",
      "Epoch 18/50\n",
      "280/280 [==============================] - 108s 385ms/step - loss: 0.1516 - accuracy: 0.9457 - val_loss: 0.1062 - val_accuracy: 0.9588\n",
      "Epoch 19/50\n",
      "280/280 [==============================] - 105s 375ms/step - loss: 0.1629 - accuracy: 0.9493 - val_loss: 0.0855 - val_accuracy: 0.9762\n",
      "Epoch 20/50\n",
      "280/280 [==============================] - 105s 377ms/step - loss: 0.1634 - accuracy: 0.9486 - val_loss: 0.1283 - val_accuracy: 0.9513\n",
      "Epoch 21/50\n",
      "280/280 [==============================] - 109s 391ms/step - loss: 0.1404 - accuracy: 0.9532 - val_loss: 0.0948 - val_accuracy: 0.9700\n",
      "Epoch 22/50\n",
      "280/280 [==============================] - 111s 397ms/step - loss: 0.1385 - accuracy: 0.9504 - val_loss: 0.1001 - val_accuracy: 0.9762\n",
      "Epoch 23/50\n",
      "280/280 [==============================] - 103s 367ms/step - loss: 0.1482 - accuracy: 0.9511 - val_loss: 0.1564 - val_accuracy: 0.9450\n",
      "Epoch 24/50\n",
      "280/280 [==============================] - 96s 344ms/step - loss: 0.1563 - accuracy: 0.9521 - val_loss: 0.1111 - val_accuracy: 0.9675\n",
      "Epoch 25/50\n",
      "280/280 [==============================] - 100s 357ms/step - loss: 0.1482 - accuracy: 0.9536 - val_loss: 0.1092 - val_accuracy: 0.9688\n",
      "Epoch 26/50\n",
      "280/280 [==============================] - 103s 367ms/step - loss: 0.1357 - accuracy: 0.9518 - val_loss: 0.0991 - val_accuracy: 0.9650\n",
      "Epoch 27/50\n",
      "280/280 [==============================] - 99s 354ms/step - loss: 0.1319 - accuracy: 0.9579 - val_loss: 0.0959 - val_accuracy: 0.9737\n",
      "Epoch 28/50\n",
      "280/280 [==============================] - 98s 348ms/step - loss: 0.1390 - accuracy: 0.9550 - val_loss: 0.0986 - val_accuracy: 0.9725\n",
      "Epoch 29/50\n",
      "280/280 [==============================] - 97s 345ms/step - loss: 0.1212 - accuracy: 0.9618 - val_loss: 0.1333 - val_accuracy: 0.9563\n",
      "Epoch 30/50\n",
      "280/280 [==============================] - 106s 380ms/step - loss: 0.1446 - accuracy: 0.9557 - val_loss: 0.0870 - val_accuracy: 0.9712\n",
      "Epoch 31/50\n",
      "280/280 [==============================] - 105s 374ms/step - loss: 0.1403 - accuracy: 0.9582 - val_loss: 0.1339 - val_accuracy: 0.9463\n",
      "Epoch 32/50\n",
      "280/280 [==============================] - 102s 365ms/step - loss: 0.1208 - accuracy: 0.9593 - val_loss: 0.1309 - val_accuracy: 0.9563\n",
      "Epoch 33/50\n",
      "280/280 [==============================] - 103s 367ms/step - loss: 0.1188 - accuracy: 0.9654 - val_loss: 0.1351 - val_accuracy: 0.9475\n",
      "Epoch 34/50\n",
      "280/280 [==============================] - 113s 405ms/step - loss: 0.1416 - accuracy: 0.9529 - val_loss: 0.1092 - val_accuracy: 0.9675\n",
      "Epoch 35/50\n",
      "280/280 [==============================] - 106s 379ms/step - loss: 0.1153 - accuracy: 0.9675 - val_loss: 0.0901 - val_accuracy: 0.9650\n",
      "Epoch 36/50\n",
      "280/280 [==============================] - 102s 364ms/step - loss: 0.1172 - accuracy: 0.9650 - val_loss: 0.1621 - val_accuracy: 0.9450\n",
      "Epoch 37/50\n",
      "280/280 [==============================] - 106s 379ms/step - loss: 0.1188 - accuracy: 0.9650 - val_loss: 0.1564 - val_accuracy: 0.9425\n",
      "Epoch 38/50\n",
      "280/280 [==============================] - 99s 353ms/step - loss: 0.1275 - accuracy: 0.9636 - val_loss: 0.2217 - val_accuracy: 0.9350\n",
      "Epoch 39/50\n",
      "280/280 [==============================] - 100s 358ms/step - loss: 0.1132 - accuracy: 0.9618 - val_loss: 0.1282 - val_accuracy: 0.9600\n",
      "Epoch 40/50\n",
      "280/280 [==============================] - 96s 341ms/step - loss: 0.1269 - accuracy: 0.9593 - val_loss: 0.0891 - val_accuracy: 0.9650\n",
      "Epoch 41/50\n",
      "280/280 [==============================] - 95s 340ms/step - loss: 0.0887 - accuracy: 0.9729 - val_loss: 0.0971 - val_accuracy: 0.9712\n",
      "Epoch 42/50\n",
      "280/280 [==============================] - 97s 347ms/step - loss: 0.1030 - accuracy: 0.9711 - val_loss: 0.1196 - val_accuracy: 0.9588\n",
      "Epoch 43/50\n",
      "280/280 [==============================] - 110s 391ms/step - loss: 0.1018 - accuracy: 0.9654 - val_loss: 0.0843 - val_accuracy: 0.9663\n",
      "Epoch 44/50\n",
      "280/280 [==============================] - 105s 376ms/step - loss: 0.1205 - accuracy: 0.9575 - val_loss: 0.0886 - val_accuracy: 0.9775\n",
      "Epoch 45/50\n",
      "280/280 [==============================] - 95s 340ms/step - loss: 0.1112 - accuracy: 0.9646 - val_loss: 0.1270 - val_accuracy: 0.9588\n",
      "Epoch 46/50\n",
      "280/280 [==============================] - 96s 342ms/step - loss: 0.0967 - accuracy: 0.9700 - val_loss: 0.1289 - val_accuracy: 0.9575\n",
      "Epoch 47/50\n",
      "280/280 [==============================] - 96s 343ms/step - loss: 0.1097 - accuracy: 0.9643 - val_loss: 0.0961 - val_accuracy: 0.9688\n",
      "Epoch 48/50\n",
      "280/280 [==============================] - 95s 340ms/step - loss: 0.0995 - accuracy: 0.9700 - val_loss: 0.0967 - val_accuracy: 0.9688\n",
      "Epoch 49/50\n",
      "280/280 [==============================] - 99s 354ms/step - loss: 0.1022 - accuracy: 0.9629 - val_loss: 0.0802 - val_accuracy: 0.9787\n",
      "Epoch 50/50\n",
      "280/280 [==============================] - 101s 360ms/step - loss: 0.0955 - accuracy: 0.9696 - val_loss: 0.1078 - val_accuracy: 0.9613\n"
     ]
    }
   ],
   "source": [
    "history = model.fit(\n",
    "  train_generator,\n",
    "  validation_data=validation_generator,\n",
    "  steps_per_epoch=280,\n",
    "  epochs=50,\n",
    "  validation_steps=80\n",
    ")"
   ]
  },
  {
   "cell_type": "code",
   "execution_count": 8,
   "metadata": {},
   "outputs": [
    {
     "name": "stdout",
     "output_type": "stream",
     "text": [
      "40/40 [==============================] - 5s 129ms/step - loss: 0.1085 - accuracy: 0.9600\n"
     ]
    },
    {
     "data": {
      "text/plain": [
       "[0.10853978991508484, 0.9599999785423279]"
      ]
     },
     "execution_count": 8,
     "metadata": {},
     "output_type": "execute_result"
    }
   ],
   "source": [
    "model.evaluate(test_generator)"
   ]
  },
  {
   "cell_type": "code",
   "execution_count": 12,
   "metadata": {},
   "outputs": [
    {
     "data": {
      "image/png": "[encoded data removed]",
      "text/plain": [
       "<Figure size 432x288 with 1 Axes>"
      ]
     },
     "metadata": {
      "needs_background": "light"
     },
     "output_type": "display_data"
    }
   ],
   "source": [
    "import matplotlib.pyplot as plt\n",
    "\n",
    "acc = history.history['accuracy']\n",
    "val_acc = history.history['val_accuracy']\n",
    "loss = history.history['loss']\n",
    "val_loss = history.history['val_loss']\n",
    "\n",
    "epochs = range(len(acc))\n",
    "\n",
    "plt.plot(epochs, acc, 'r', label='Training accuracy')\n",
    "plt.plot(epochs, val_acc, 'b', label='Validation accuracy')\n",
    "plt.title('Training and validation accuracy')\n",
    "plt.legend(loc=0)\n",
    "fig = plt.gcf()\n",
    "fig.savefig('from_basic.png',dpi=fig.dpi)\n",
    "plt.show()\n",
    "\n"
   ]
  },
  {
   "cell_type": "code",
   "execution_count": 13,
   "metadata": {},
   "outputs": [],
   "source": [
    "from keras.models import load_model\n",
    "\n",
    "model.save('from_basic2.h5')\n",
    "model.save_weights('from_basic_weights.h5')"
   ]
  },
  {
   "cell_type": "code",
   "execution_count": null,
   "metadata": {},
   "outputs": [],
   "source": []
  },
  {
   "cell_type": "code",
   "execution_count": null,
   "metadata": {},
   "outputs": [],
   "source": [
    "testt=image_dataset_from_directory(\n",
    "    save_path+'test/',\n",
    "    labels=\"inferred\",\n",
    "    label_mode=\"int\",\n",
    "    class_names=['chin_mask', 'full_mask', 'no_mask', 'nose_mask'],\n",
    "    color_mode=\"rgb\",\n",
    "    batch_size=10,\n",
    "    shuffle=False,\n",
    "    seed=1120\n",
    ")"
   ]
  },
  {
   "cell_type": "code",
   "execution_count": null,
   "metadata": {},
   "outputs": [],
   "source": [
    "type(testt)"
   ]
  },
  {
   "cell_type": "code",
   "execution_count": null,
   "metadata": {},
   "outputs": [],
   "source": [
    "testt.shape"
   ]
  },
  {
   "cell_type": "code",
   "execution_count": null,
   "metadata": {},
   "outputs": [],
   "source": [
    "dir(tensorflow.python.data.ops.dataset_ops.BatchDataset)"
   ]
  }
 ],
 "metadata": {
  "kernelspec": {
   "display_name": "Python 3",
   "language": "python",
   "name": "python3"
  },
  "language_info": {
   "codemirror_mode": {
    "name": "ipython",
    "version": 3
   },
   "file_extension": ".py",
   "mimetype": "text/x-python",
   "name": "python",
   "nbconvert_exporter": "python",
   "pygments_lexer": "ipython3",
   "version": "3.8.3"
  }
 },
 "nbformat": 4,
 "nbformat_minor": 4
}
