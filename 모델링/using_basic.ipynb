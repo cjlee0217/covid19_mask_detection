{
 "cells": [
  {
   "cell_type": "code",
   "execution_count": 1,
   "metadata": {},
   "outputs": [],
   "source": [
    "from keras.models import Model , Sequential\n",
    "from keras.layers import GlobalAveragePooling2D , Dropout , Dense , Activation\n",
    "from keras.layers import Conv2D , BatchNormalization , Flatten , MaxPooling2D\n",
    "from keras.preprocessing.image import ImageDataGenerator\n",
    "from keras.optimizers import Adam\n",
    "import cv2\n",
    "import numpy as np\n",
    "from keras.preprocessing import image_dataset_from_directory"
   ]
  },
  {
   "cell_type": "code",
   "execution_count": 9,
   "metadata": {},
   "outputs": [
    {
     "name": "stdout",
     "output_type": "stream",
     "text": [
      "Model: \"sequential_2\"\n",
      "_________________________________________________________________\n",
      "Layer (type)                 Output Shape              Param #   \n",
      "=================================================================\n",
      "conv2d_5 (Conv2D)            (None, 118, 88, 32)       896       \n",
      "_________________________________________________________________\n",
      "activation_5 (Activation)    (None, 118, 88, 32)       0         \n",
      "_________________________________________________________________\n",
      "max_pooling2d_5 (MaxPooling2 (None, 59, 44, 32)        0         \n",
      "_________________________________________________________________\n",
      "conv2d_6 (Conv2D)            (None, 57, 42, 32)        9248      \n",
      "_________________________________________________________________\n",
      "activation_6 (Activation)    (None, 57, 42, 32)        0         \n",
      "_________________________________________________________________\n",
      "max_pooling2d_6 (MaxPooling2 (None, 28, 21, 32)        0         \n",
      "_________________________________________________________________\n",
      "conv2d_7 (Conv2D)            (None, 26, 19, 16)        4624      \n",
      "_________________________________________________________________\n",
      "activation_7 (Activation)    (None, 26, 19, 16)        0         \n",
      "_________________________________________________________________\n",
      "max_pooling2d_7 (MaxPooling2 (None, 13, 9, 16)         0         \n",
      "_________________________________________________________________\n",
      "flatten_2 (Flatten)          (None, 1872)              0         \n",
      "_________________________________________________________________\n",
      "dense_6 (Dense)              (None, 256)               479488    \n",
      "_________________________________________________________________\n",
      "dense_7 (Dense)              (None, 64)                16448     \n",
      "_________________________________________________________________\n",
      "dense_8 (Dense)              (None, 4)                 260       \n",
      "=================================================================\n",
      "Total params: 510,964\n",
      "Trainable params: 510,964\n",
      "Non-trainable params: 0\n",
      "_________________________________________________________________\n"
     ]
    }
   ],
   "source": [
    "model = Sequential()\n",
    "\n",
    "model.add(Conv2D(input_shape = (120,90,3), filters = 32, kernel_size = (3,3), strides = (1,1)))\n",
    "model.add(Activation('relu'))\n",
    "model.add(MaxPooling2D(pool_size = (2,2)))\n",
    "\n",
    "model.add(Conv2D(filters = 32, kernel_size = (3,3), strides = (1,1)))\n",
    "#model.add(BatchNormalization())\n",
    "model.add(Activation('relu'))\n",
    "model.add(MaxPooling2D(pool_size = (2,2)))\n",
    "\n",
    "model.add(Conv2D(filters = 16, kernel_size = (3,3), strides = (1,1)))\n",
    "#model.add(BatchNormalization())\n",
    "model.add(Activation('relu'))\n",
    "model.add(MaxPooling2D(pool_size = (2,2)))\n",
    "\n",
    "\n",
    "model.add(Flatten())\n",
    "model.add(Dense(256, activation = 'relu'))\n",
    "model.add(Dense(64, activation = 'relu'))\n",
    "model.add(Dense(4, activation = 'softmax'))\n",
    "\n",
    "adam = Adam(lr = 0.001)\n",
    "model.compile(loss = 'categorical_crossentropy', optimizer = adam, metrics = ['accuracy'])\n",
    "model.summary()"
   ]
  },
  {
   "cell_type": "code",
   "execution_count": 10,
   "metadata": {},
   "outputs": [],
   "source": [
    "train_datagen = ImageDataGenerator(rescale=1./255,\n",
    "                                   rotation_range=15,\n",
    "                                   width_shift_range=0.1,\n",
    "                                   height_shift_range=0.1,\n",
    "                                   shear_range=0.5,\n",
    "                                   zoom_range=[0.8, 2.0],\n",
    "                                   horizontal_flip=True,\n",
    "                                   vertical_flip=True,\n",
    "                                   fill_mode='nearest')\n",
    "\n",
    "test_datagen = ImageDataGenerator(rescale=1./255.)"
   ]
  },
  {
   "cell_type": "code",
   "execution_count": 11,
   "metadata": {},
   "outputs": [],
   "source": [
    "save_path = 'C:/mask_data/'"
   ]
  },
  {
   "cell_type": "code",
   "execution_count": 14,
   "metadata": {},
   "outputs": [
    {
     "name": "stdout",
     "output_type": "stream",
     "text": [
      "Found 2800 images belonging to 4 classes.\n",
      "Found 1200 images belonging to 4 classes.\n"
     ]
    }
   ],
   "source": [
    "save_path = 'C:/mask_data/'\n",
    "\n",
    "train_generator = train_datagen.flow_from_directory(save_path+'train/',\n",
    "                                                  batch_size=10,\n",
    "                                                    target_size=(120,90),\n",
    "                                                  class_mode='categorical')\n",
    "\n",
    "validation_generator = test_datagen.flow_from_directory(save_path+'test/',\n",
    "                                                      batch_size=10,\n",
    "                                                        target_size=(120,90),\n",
    "                                                      class_mode='categorical')"
   ]
  },
  {
   "cell_type": "code",
   "execution_count": 15,
   "metadata": {},
   "outputs": [
    {
     "name": "stdout",
     "output_type": "stream",
     "text": [
      "Epoch 1/50\n",
      "280/280 [==============================] - 50s 178ms/step - loss: 0.5284 - accuracy: 0.7964 - val_loss: 0.2042 - val_accuracy: 0.9333\n",
      "Epoch 2/50\n",
      "280/280 [==============================] - 48s 173ms/step - loss: 0.2967 - accuracy: 0.8989 - val_loss: 0.3162 - val_accuracy: 0.9050\n",
      "Epoch 3/50\n",
      "280/280 [==============================] - 50s 178ms/step - loss: 0.2492 - accuracy: 0.9157 - val_loss: 0.1334 - val_accuracy: 0.9792\n",
      "Epoch 4/50\n",
      "280/280 [==============================] - 49s 174ms/step - loss: 0.2098 - accuracy: 0.9354 - val_loss: 0.1396 - val_accuracy: 0.9650\n",
      "Epoch 5/50\n",
      "280/280 [==============================] - 48s 173ms/step - loss: 0.1839 - accuracy: 0.9379 - val_loss: 0.1675 - val_accuracy: 0.9300\n",
      "Epoch 6/50\n",
      "280/280 [==============================] - 49s 175ms/step - loss: 0.1666 - accuracy: 0.9457 - val_loss: 0.0827 - val_accuracy: 0.9783\n",
      "Epoch 7/50\n",
      "280/280 [==============================] - 48s 173ms/step - loss: 0.1667 - accuracy: 0.9468 - val_loss: 0.1031 - val_accuracy: 0.9825\n",
      "Epoch 8/50\n",
      "280/280 [==============================] - 48s 172ms/step - loss: 0.1787 - accuracy: 0.9375 - val_loss: 0.1266 - val_accuracy: 0.9708\n",
      "Epoch 9/50\n",
      "280/280 [==============================] - 48s 173ms/step - loss: 0.1505 - accuracy: 0.9482 - val_loss: 0.0755 - val_accuracy: 0.9817\n",
      "Epoch 10/50\n",
      "280/280 [==============================] - 48s 173ms/step - loss: 0.1446 - accuracy: 0.9543 - val_loss: 0.0906 - val_accuracy: 0.9767\n",
      "Epoch 11/50\n",
      "280/280 [==============================] - 48s 173ms/step - loss: 0.1453 - accuracy: 0.9504 - val_loss: 0.0952 - val_accuracy: 0.9775\n",
      "Epoch 12/50\n",
      "280/280 [==============================] - 49s 174ms/step - loss: 0.1606 - accuracy: 0.9429 - val_loss: 0.1051 - val_accuracy: 0.9717\n",
      "Epoch 13/50\n",
      "280/280 [==============================] - 48s 171ms/step - loss: 0.1468 - accuracy: 0.9536 - val_loss: 0.0868 - val_accuracy: 0.9775\n",
      "Epoch 14/50\n",
      "280/280 [==============================] - 48s 172ms/step - loss: 0.1190 - accuracy: 0.9607 - val_loss: 0.0707 - val_accuracy: 0.9842\n",
      "Epoch 15/50\n",
      "280/280 [==============================] - 49s 173ms/step - loss: 0.1331 - accuracy: 0.9557 - val_loss: 0.0765 - val_accuracy: 0.9850\n",
      "Epoch 16/50\n",
      "280/280 [==============================] - 48s 173ms/step - loss: 0.1572 - accuracy: 0.9489 - val_loss: 0.0810 - val_accuracy: 0.9775\n",
      "Epoch 17/50\n",
      "280/280 [==============================] - 48s 172ms/step - loss: 0.1189 - accuracy: 0.9646 - val_loss: 0.0744 - val_accuracy: 0.9725\n",
      "Epoch 18/50\n",
      "280/280 [==============================] - 49s 174ms/step - loss: 0.1435 - accuracy: 0.9575 - val_loss: 0.0660 - val_accuracy: 0.9817\n",
      "Epoch 19/50\n",
      "280/280 [==============================] - 49s 174ms/step - loss: 0.1208 - accuracy: 0.9589 - val_loss: 0.1135 - val_accuracy: 0.9650\n",
      "Epoch 20/50\n",
      "280/280 [==============================] - 50s 179ms/step - loss: 0.1116 - accuracy: 0.9664 - val_loss: 0.0573 - val_accuracy: 0.9875\n",
      "Epoch 21/50\n",
      "280/280 [==============================] - 48s 171ms/step - loss: 0.1110 - accuracy: 0.9650 - val_loss: 0.0925 - val_accuracy: 0.9700\n",
      "Epoch 22/50\n",
      "280/280 [==============================] - 48s 173ms/step - loss: 0.1138 - accuracy: 0.9661 - val_loss: 0.0611 - val_accuracy: 0.9892\n",
      "Epoch 23/50\n",
      "280/280 [==============================] - 50s 177ms/step - loss: 0.1263 - accuracy: 0.9611 - val_loss: 0.0861 - val_accuracy: 0.9808\n",
      "Epoch 24/50\n",
      "280/280 [==============================] - 47s 169ms/step - loss: 0.1189 - accuracy: 0.9632 - val_loss: 0.1005 - val_accuracy: 0.9625\n",
      "Epoch 25/50\n",
      "280/280 [==============================] - 47s 168ms/step - loss: 0.1109 - accuracy: 0.9604 - val_loss: 0.1091 - val_accuracy: 0.9733\n",
      "Epoch 26/50\n",
      "280/280 [==============================] - 48s 171ms/step - loss: 0.1175 - accuracy: 0.9618 - val_loss: 0.0926 - val_accuracy: 0.9725\n",
      "Epoch 27/50\n",
      "280/280 [==============================] - 48s 171ms/step - loss: 0.1072 - accuracy: 0.9668 - val_loss: 0.0852 - val_accuracy: 0.9825\n",
      "Epoch 28/50\n",
      "280/280 [==============================] - 47s 168ms/step - loss: 0.0950 - accuracy: 0.9711 - val_loss: 0.0689 - val_accuracy: 0.9808\n",
      "Epoch 29/50\n",
      "280/280 [==============================] - 48s 172ms/step - loss: 0.1602 - accuracy: 0.9482 - val_loss: 0.1297 - val_accuracy: 0.9558\n",
      "Epoch 30/50\n",
      "280/280 [==============================] - 48s 172ms/step - loss: 0.1281 - accuracy: 0.9618 - val_loss: 0.0763 - val_accuracy: 0.9783\n",
      "Epoch 31/50\n",
      "280/280 [==============================] - 48s 171ms/step - loss: 0.1102 - accuracy: 0.9682 - val_loss: 0.0562 - val_accuracy: 0.9858\n",
      "Epoch 32/50\n",
      "280/280 [==============================] - 48s 170ms/step - loss: 0.0975 - accuracy: 0.9686 - val_loss: 0.0602 - val_accuracy: 0.9833\n",
      "Epoch 33/50\n",
      "280/280 [==============================] - 47s 170ms/step - loss: 0.0856 - accuracy: 0.9721 - val_loss: 0.0563 - val_accuracy: 0.9808\n",
      "Epoch 34/50\n",
      "280/280 [==============================] - 47s 169ms/step - loss: 0.0865 - accuracy: 0.9732 - val_loss: 0.0652 - val_accuracy: 0.9850\n",
      "Epoch 35/50\n",
      "280/280 [==============================] - 47s 169ms/step - loss: 0.0931 - accuracy: 0.9700 - val_loss: 0.0856 - val_accuracy: 0.9733\n",
      "Epoch 36/50\n",
      "280/280 [==============================] - 47s 167ms/step - loss: 0.1029 - accuracy: 0.9614 - val_loss: 0.0966 - val_accuracy: 0.9617\n",
      "Epoch 37/50\n",
      "280/280 [==============================] - 48s 171ms/step - loss: 0.0872 - accuracy: 0.9696 - val_loss: 0.0570 - val_accuracy: 0.9825\n",
      "Epoch 38/50\n",
      "280/280 [==============================] - 48s 170ms/step - loss: 0.0810 - accuracy: 0.9757 - val_loss: 0.0693 - val_accuracy: 0.9775\n",
      "Epoch 39/50\n",
      "280/280 [==============================] - 47s 169ms/step - loss: 0.0905 - accuracy: 0.9714 - val_loss: 0.0590 - val_accuracy: 0.9808\n",
      "Epoch 40/50\n",
      "280/280 [==============================] - 48s 170ms/step - loss: 0.0922 - accuracy: 0.9700 - val_loss: 0.0790 - val_accuracy: 0.9783\n",
      "Epoch 41/50\n",
      "280/280 [==============================] - 48s 170ms/step - loss: 0.0874 - accuracy: 0.9732 - val_loss: 0.0474 - val_accuracy: 0.9867\n",
      "Epoch 42/50\n",
      "280/280 [==============================] - 48s 170ms/step - loss: 0.0810 - accuracy: 0.9729 - val_loss: 0.0562 - val_accuracy: 0.9842\n",
      "Epoch 43/50\n",
      "280/280 [==============================] - 49s 173ms/step - loss: 0.0841 - accuracy: 0.9704 - val_loss: 0.0676 - val_accuracy: 0.9792\n",
      "Epoch 44/50\n",
      "280/280 [==============================] - 49s 174ms/step - loss: 0.0811 - accuracy: 0.9764 - val_loss: 0.0576 - val_accuracy: 0.9817\n",
      "Epoch 45/50\n",
      "280/280 [==============================] - 48s 173ms/step - loss: 0.0815 - accuracy: 0.9743 - val_loss: 0.0734 - val_accuracy: 0.9633\n",
      "Epoch 46/50\n",
      "280/280 [==============================] - 47s 169ms/step - loss: 0.0844 - accuracy: 0.9718 - val_loss: 0.0392 - val_accuracy: 0.9883\n",
      "Epoch 47/50\n",
      "280/280 [==============================] - 48s 172ms/step - loss: 0.0787 - accuracy: 0.9739 - val_loss: 0.1245 - val_accuracy: 0.9617\n",
      "Epoch 48/50\n",
      "280/280 [==============================] - 48s 171ms/step - loss: 0.0954 - accuracy: 0.9689 - val_loss: 0.0447 - val_accuracy: 0.9875\n",
      "Epoch 49/50\n",
      "280/280 [==============================] - 48s 172ms/step - loss: 0.0906 - accuracy: 0.9696 - val_loss: 0.1094 - val_accuracy: 0.9475\n",
      "Epoch 50/50\n",
      "280/280 [==============================] - 49s 174ms/step - loss: 0.0828 - accuracy: 0.9714 - val_loss: 0.0579 - val_accuracy: 0.9825\n"
     ]
    }
   ],
   "source": [
    "history = model.fit(\n",
    "  train_generator,\n",
    "  validation_data=validation_generator,\n",
    "  steps_per_epoch=280,\n",
    "  epochs=50,\n",
    "  validation_steps=120\n",
    ")"
   ]
  },
  {
   "cell_type": "code",
   "execution_count": 16,
   "metadata": {},
   "outputs": [
    {
     "data": {
      "image/png": "[encoded data removed]",
      "text/plain": [
       "<Figure size 432x288 with 1 Axes>"
      ]
     },
     "metadata": {
      "needs_background": "light"
     },
     "output_type": "display_data"
    },
    {
     "data": {
      "text/plain": [
       "<Figure size 432x288 with 0 Axes>"
      ]
     },
     "metadata": {},
     "output_type": "display_data"
    }
   ],
   "source": [
    "import matplotlib.pyplot as plt\n",
    "\n",
    "acc = history.history['accuracy']\n",
    "val_acc = history.history['val_accuracy']\n",
    "loss = history.history['loss']\n",
    "val_loss = history.history['val_loss']\n",
    "\n",
    "epochs = range(len(acc))\n",
    "\n",
    "plt.plot(epochs, acc, 'r', label='Training accuracy')\n",
    "plt.plot(epochs, val_acc, 'b', label='Validation accuracy')\n",
    "plt.title('Training and validation accuracy')\n",
    "plt.legend(loc=0)\n",
    "plt.figure()\n",
    "plt.show()"
   ]
  },
  {
   "cell_type": "code",
   "execution_count": 17,
   "metadata": {},
   "outputs": [],
   "source": [
    "from keras.models import load_model\n",
    "\n",
    "model.save('from_basic.h5')"
   ]
  },
  {
   "cell_type": "code",
   "execution_count": null,
   "metadata": {},
   "outputs": [],
   "source": [
    "testt=image_dataset_from_directory(\n",
    "    save_path+'test/',\n",
    "    labels=\"inferred\",\n",
    "    label_mode=\"int\",\n",
    "    class_names=['chin_mask', 'full_mask', 'no_mask', 'nose_mask'],\n",
    "    color_mode=\"rgb\",\n",
    "    batch_size=10,\n",
    "    shuffle=False,\n",
    "    seed=1120\n",
    ")"
   ]
  },
  {
   "cell_type": "code",
   "execution_count": null,
   "metadata": {},
   "outputs": [],
   "source": [
    "type(testt)"
   ]
  },
  {
   "cell_type": "code",
   "execution_count": null,
   "metadata": {},
   "outputs": [],
   "source": [
    "testt.shape"
   ]
  },
  {
   "cell_type": "code",
   "execution_count": null,
   "metadata": {},
   "outputs": [],
   "source": [
    "dir(tensorflow.python.data.ops.dataset_ops.BatchDataset)"
   ]
  }
 ],
 "metadata": {
  "kernelspec": {
   "display_name": "Python 3",
   "language": "python",
   "name": "python3"
  },
  "language_info": {
   "codemirror_mode": {
    "name": "ipython",
    "version": 3
   },
   "file_extension": ".py",
   "mimetype": "text/x-python",
   "name": "python",
   "nbconvert_exporter": "python",
   "pygments_lexer": "ipython3",
   "version": "3.7.6"
  }
 },
 "nbformat": 4,
 "nbformat_minor": 4
}
