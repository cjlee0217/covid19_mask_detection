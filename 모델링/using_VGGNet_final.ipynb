{
 "cells": [
  {
   "cell_type": "code",
   "execution_count": 2,
   "metadata": {},
   "outputs": [],
   "source": [
    "import os\n",
    "import numpy as np\n",
    "np.random.seed(1120)\n",
    "from sklearn.model_selection import train_test_split\n",
    "import cv2\n",
    "\n",
    "top_path = 'mask_dataset/' # 안에 chin_mask , full_mask... 로 하위 폴더가 있는 상위 폴더 경로\n",
    "\n",
    "save_path = 'mask_dataset_final/' # 저장할 경로 (안에 빈 train , test 폴더 먼저 만들어 놓고 실행)\n",
    "\n",
    "folders = os.listdir(top_path)\n",
    "\n",
    "for folder in folders:\n",
    "    \n",
    "    files = os.listdir(top_path+folder+'/')\n",
    "    \n",
    "    image_files = [file for file in files if file.endswith(\".png\")]\n",
    "    \n",
    "    image_1000 = image_files[-1000:]\n",
    "    \n",
    "    train,test = train_test_split(image_1000,test_size=0.1,random_state=1120)\n",
    "    train,validate = train_test_split(train,test_size=(2/9),random_state=1120)\n",
    "    \n",
    "    for img in train:\n",
    "        original=cv2.imread(top_path+folder+'/'+img)\n",
    "        cv2.imwrite(save_path+'train/'+folder+'/'+img, original.copy())\n",
    "        \n",
    "    for img in validate:\n",
    "        original=cv2.imread(top_path+folder+'/'+img)\n",
    "        cv2.imwrite(save_path+'validate/'+folder+'/'+img, original.copy())\n",
    "        \n",
    "    for img in test:\n",
    "        original=cv2.imread(top_path+folder+'/'+img)\n",
    "        cv2.imwrite(save_path+'test/'+folder+'/'+img, original.copy())"
   ]
  },
  {
   "cell_type": "code",
   "execution_count": 3,
   "metadata": {},
   "outputs": [],
   "source": [
    "train_img_path = \"mask_dataset_final/train/\"\n",
    "categories = os.listdir(train_img_path)\n",
    "num_classes = len(categories)"
   ]
  },
  {
   "cell_type": "code",
   "execution_count": 4,
   "metadata": {},
   "outputs": [],
   "source": [
    "test_img_path = \"mask_dataset_final/test/\"\n",
    "categories2 = os.listdir(test_img_path)\n",
    "num_classes2 = len(categories2)"
   ]
  },
  {
   "cell_type": "code",
   "execution_count": 5,
   "metadata": {},
   "outputs": [],
   "source": [
    "validate_img_path = \"mask_dataset_final/validate/\"\n",
    "categories3 = os.listdir(validate_img_path)\n",
    "num_classes3 = len(categories3)"
   ]
  },
  {
   "cell_type": "code",
   "execution_count": 6,
   "metadata": {},
   "outputs": [],
   "source": [
    "X_train = []\n",
    "Y_train = []\n",
    "for idx, category in enumerate(categories):\n",
    "    label = [0 for i in range(num_classes)]\n",
    "    label[idx] = 1\n",
    "    img_path = train_img_path + category + '/'\n",
    "  \n",
    "    for dirpath, dirnames, filenames in os.walk(img_path):\n",
    "        for filename in filenames:\n",
    "#             print(img_path+filename, label)\n",
    "            img = cv2.imread(img_path+filename)\n",
    "            X_train.append(img/255)\n",
    "            Y_train.append(label)\n",
    "\n",
    "X_train = np.array(X_train)\n",
    "Y_train = np.array(Y_train)"
   ]
  },
  {
   "cell_type": "code",
   "execution_count": 7,
   "metadata": {},
   "outputs": [],
   "source": [
    "X_test = []\n",
    "Y_test = []\n",
    "for idx, category in enumerate(categories2):\n",
    "    label2 = [0 for i in range(num_classes2)]\n",
    "    label2[idx] = 1\n",
    "    img_path2 = test_img_path + category + '/'\n",
    "  \n",
    "    for dirpath, dirnames, filenames in os.walk(img_path2):\n",
    "        for filename in filenames:\n",
    "#             print(img_path+filename, label)\n",
    "            img2 = cv2.imread(img_path2+filename)\n",
    "            X_test.append(img2/255)\n",
    "            Y_test.append(label2)\n",
    "\n",
    "X_test = np.array(X_test)\n",
    "Y_test = np.array(Y_test)"
   ]
  },
  {
   "cell_type": "code",
   "execution_count": 8,
   "metadata": {},
   "outputs": [],
   "source": [
    "X_validate = []\n",
    "Y_validate = []\n",
    "for idx, category in enumerate(categories3):\n",
    "    label3 = [0 for i in range(num_classes3)]\n",
    "    label3[idx] = 1\n",
    "    img_path3 = validate_img_path + category + '/'\n",
    "  \n",
    "    for dirpath, dirnames, filenames in os.walk(img_path3):\n",
    "        for filename in filenames:\n",
    "#             print(img_path+filename, label)\n",
    "            img3 = cv2.imread(img_path3+filename)\n",
    "            X_validate.append(img3/255)\n",
    "            Y_validate.append(label3)\n",
    "\n",
    "X_validate = np.array(X_validate)\n",
    "Y_validate = np.array(Y_validate)"
   ]
  },
  {
   "cell_type": "code",
   "execution_count": 9,
   "metadata": {},
   "outputs": [
    {
     "data": {
      "text/plain": [
       "(2800, 90, 120, 3)"
      ]
     },
     "execution_count": 9,
     "metadata": {},
     "output_type": "execute_result"
    }
   ],
   "source": [
    "X_train.shape"
   ]
  },
  {
   "cell_type": "code",
   "execution_count": 19,
   "metadata": {},
   "outputs": [],
   "source": [
    "from keras.models import Sequential\n",
    "from keras.layers import Dense, Conv2D, MaxPooling2D, Flatten"
   ]
  },
  {
   "cell_type": "code",
   "execution_count": 19,
   "metadata": {},
   "outputs": [],
   "source": [
    "# model = Sequential()\n",
    "\n",
    "# model.add(Conv2D(64, 3, padding = 'same', activation = 'relu', input_shape = (90, 120, 3)))\n",
    "# model.add(Conv2D(64, 3, padding = 'same', activation = 'relu'))\n",
    "# model.add(MaxPooling2D(2))\n",
    "\n",
    "# model.add(Conv2D(128, 3, padding = 'same', activation = 'relu'))\n",
    "# model.add(Conv2D(128, 3, padding = 'same', activation = 'relu'))\n",
    "# model.add(MaxPooling2D(2))\n",
    "\n",
    "# model.add(Conv2D(256, 3, padding = 'same', activation = 'relu'))\n",
    "# model.add(Conv2D(256, 3, padding = 'same', activation = 'relu'))\n",
    "# model.add(Conv2D(256, 3, padding = 'same', activation = 'relu'))\n",
    "# model.add(MaxPooling2D(2))\n",
    "\n",
    "# # model.add(Conv2D(512, 3, padding = 'same', activation = 'relu'))\n",
    "# # model.add(Conv2D(512, 3, padding = 'same', activation = 'relu'))\n",
    "# # model.add(Conv2D(512, 3, padding = 'same', activation = 'relu'))\n",
    "# # model.add(MaxPooling2D(2))\n",
    "\n",
    "# # model.add(Conv2D(512, 3, padding = 'same', activation = 'relu'))\n",
    "# # model.add(Conv2D(512, 3, padding = 'same', activation = 'relu'))\n",
    "# # model.add(Conv2D(512, 3, padding = 'same', activation = 'relu'))\n",
    "# # model.add(MaxPooling2D(2))\n",
    "\n",
    "# model.add(Flatten())\n",
    "# model.add(Dense(1024, activation = 'relu'))\n",
    "# model.add(Dense(1024, activation = 'relu'))\n",
    "# model.add(Dense(4, activation = 'softmax'))"
   ]
  },
  {
   "cell_type": "code",
   "execution_count": 20,
   "metadata": {},
   "outputs": [],
   "source": [
    "# epochs = 10 -> 약 98.6%의 model\n",
    "model = Sequential()\n",
    "\n",
    "model.add(Conv2D(64, 3, padding = 'same', activation = 'relu', input_shape = (90, 120, 3)))\n",
    "model.add(Conv2D(64, 3, padding = 'same', activation = 'relu'))\n",
    "model.add(MaxPooling2D(2))\n",
    "\n",
    "model.add(Conv2D(128, 3, padding = 'same', activation = 'relu'))\n",
    "model.add(Conv2D(128, 3, padding = 'same', activation = 'relu'))\n",
    "model.add(MaxPooling2D(2))\n",
    "\n",
    "model.add(Conv2D(256, 3, padding = 'same', activation = 'relu'))\n",
    "model.add(Conv2D(256, 3, padding = 'same', activation = 'relu'))\n",
    "model.add(Conv2D(256, 3, padding = 'same', activation = 'relu'))\n",
    "model.add(MaxPooling2D(2))\n",
    "\n",
    "model.add(Conv2D(512, 3, padding = 'same', activation = 'relu'))\n",
    "model.add(Conv2D(512, 3, padding = 'same', activation = 'relu'))\n",
    "model.add(Conv2D(512, 3, padding = 'same', activation = 'relu'))\n",
    "model.add(MaxPooling2D(2))\n",
    "\n",
    "# model.add(Conv2D(512, 3, padding = 'same', activation = 'relu'))\n",
    "# model.add(Conv2D(512, 3, padding = 'same', activation = 'relu'))\n",
    "# model.add(Conv2D(512, 3, padding = 'same', activation = 'relu'))\n",
    "# model.add(MaxPooling2D(2))\n",
    "\n",
    "model.add(Flatten())\n",
    "model.add(Dense(512, activation = 'relu'))\n",
    "model.add(Dense(512, activation = 'relu'))\n",
    "model.add(Dense(4, activation = 'softmax'))"
   ]
  },
  {
   "cell_type": "code",
   "execution_count": 21,
   "metadata": {},
   "outputs": [
    {
     "name": "stdout",
     "output_type": "stream",
     "text": [
      "Model: \"sequential_2\"\n",
      "_________________________________________________________________\n",
      "Layer (type)                 Output Shape              Param #   \n",
      "=================================================================\n",
      "conv2d_20 (Conv2D)           (None, 90, 120, 64)       1792      \n",
      "_________________________________________________________________\n",
      "conv2d_21 (Conv2D)           (None, 90, 120, 64)       36928     \n",
      "_________________________________________________________________\n",
      "max_pooling2d_8 (MaxPooling2 (None, 45, 60, 64)        0         \n",
      "_________________________________________________________________\n",
      "conv2d_22 (Conv2D)           (None, 45, 60, 128)       73856     \n",
      "_________________________________________________________________\n",
      "conv2d_23 (Conv2D)           (None, 45, 60, 128)       147584    \n",
      "_________________________________________________________________\n",
      "max_pooling2d_9 (MaxPooling2 (None, 22, 30, 128)       0         \n",
      "_________________________________________________________________\n",
      "conv2d_24 (Conv2D)           (None, 22, 30, 256)       295168    \n",
      "_________________________________________________________________\n",
      "conv2d_25 (Conv2D)           (None, 22, 30, 256)       590080    \n",
      "_________________________________________________________________\n",
      "conv2d_26 (Conv2D)           (None, 22, 30, 256)       590080    \n",
      "_________________________________________________________________\n",
      "max_pooling2d_10 (MaxPooling (None, 11, 15, 256)       0         \n",
      "_________________________________________________________________\n",
      "conv2d_27 (Conv2D)           (None, 11, 15, 512)       1180160   \n",
      "_________________________________________________________________\n",
      "conv2d_28 (Conv2D)           (None, 11, 15, 512)       2359808   \n",
      "_________________________________________________________________\n",
      "conv2d_29 (Conv2D)           (None, 11, 15, 512)       2359808   \n",
      "_________________________________________________________________\n",
      "max_pooling2d_11 (MaxPooling (None, 5, 7, 512)         0         \n",
      "_________________________________________________________________\n",
      "flatten_2 (Flatten)          (None, 17920)             0         \n",
      "_________________________________________________________________\n",
      "dense_6 (Dense)              (None, 512)               9175552   \n",
      "_________________________________________________________________\n",
      "dense_7 (Dense)              (None, 512)               262656    \n",
      "_________________________________________________________________\n",
      "dense_8 (Dense)              (None, 4)                 2052      \n",
      "=================================================================\n",
      "Total params: 17,075,524\n",
      "Trainable params: 17,075,524\n",
      "Non-trainable params: 0\n",
      "_________________________________________________________________\n"
     ]
    }
   ],
   "source": [
    "model.summary()"
   ]
  },
  {
   "cell_type": "code",
   "execution_count": 22,
   "metadata": {},
   "outputs": [],
   "source": [
    "model.compile(loss = 'categorical_crossentropy', optimizer = 'adam', metrics = ['accuracy'])\n",
    "# model.compile(loss = 'sparse_categorical_crossentropy', optimizer = 'adam', metrics = ['accuracy'])"
   ]
  },
  {
   "cell_type": "code",
   "execution_count": null,
   "metadata": {},
   "outputs": [],
   "source": [
    "# from keras.callbacks import EarlyStopping, ModelCheckpoint\n",
    "# es = EarlyStopping(monitor = 'accuracy', mode = 'max', baseline = 99.5, verbose = 1, patience = 10)\n",
    "# mc = ModelCheckpoint('best_VGGNET.h5', monitor = 'accuracy', mode = 'max', save_best_only = True)"
   ]
  },
  {
   "cell_type": "code",
   "execution_count": 23,
   "metadata": {},
   "outputs": [
    {
     "name": "stdout",
     "output_type": "stream",
     "text": [
      "Epoch 1/50\n",
      "88/88 [==============================] - 1025s 12s/step - loss: 1.0667 - accuracy: 0.4868 - val_loss: 0.2961 - val_accuracy: 0.9663\n",
      "Epoch 2/50\n",
      "88/88 [==============================] - 1007s 11s/step - loss: 0.1816 - accuracy: 0.9632 - val_loss: 0.1053 - val_accuracy: 0.9775\n",
      "Epoch 3/50\n",
      "88/88 [==============================] - 1009s 11s/step - loss: 0.4795 - accuracy: 0.8982 - val_loss: 0.1030 - val_accuracy: 0.9812\n",
      "Epoch 4/50\n",
      "88/88 [==============================] - 1010s 11s/step - loss: 0.2637 - accuracy: 0.9175 - val_loss: 0.9718 - val_accuracy: 0.8487\n",
      "Epoch 5/50\n",
      "88/88 [==============================] - 1022s 12s/step - loss: 0.1554 - accuracy: 0.9643 - val_loss: 0.0984 - val_accuracy: 0.9775\n",
      "Epoch 6/50\n",
      "88/88 [==============================] - 997s 11s/step - loss: 0.0784 - accuracy: 0.9829 - val_loss: 0.0576 - val_accuracy: 0.9887\n",
      "Epoch 7/50\n",
      "88/88 [==============================] - 994s 11s/step - loss: 0.0566 - accuracy: 0.9850 - val_loss: 0.0575 - val_accuracy: 0.9900\n",
      "Epoch 8/50\n",
      "88/88 [==============================] - 993s 11s/step - loss: 0.0496 - accuracy: 0.9896 - val_loss: 0.0534 - val_accuracy: 0.9900\n",
      "Epoch 9/50\n",
      "88/88 [==============================] - 994s 11s/step - loss: 0.0563 - accuracy: 0.9861 - val_loss: 0.0577 - val_accuracy: 0.9912\n",
      "Epoch 10/50\n",
      "88/88 [==============================] - 993s 11s/step - loss: 0.0633 - accuracy: 0.9846 - val_loss: 0.0646 - val_accuracy: 0.9862\n",
      "Epoch 11/50\n",
      "88/88 [==============================] - 992s 11s/step - loss: 0.0630 - accuracy: 0.9832 - val_loss: 0.0610 - val_accuracy: 0.9900\n",
      "Epoch 12/50\n",
      "88/88 [==============================] - 993s 11s/step - loss: 0.0580 - accuracy: 0.9857 - val_loss: 0.0446 - val_accuracy: 0.9900\n",
      "Epoch 13/50\n",
      "88/88 [==============================] - 985s 11s/step - loss: 0.0494 - accuracy: 0.9871 - val_loss: 0.0511 - val_accuracy: 0.9900\n",
      "Epoch 14/50\n",
      "88/88 [==============================] - 985s 11s/step - loss: 0.0350 - accuracy: 0.9932 - val_loss: 0.0526 - val_accuracy: 0.9887\n",
      "Epoch 15/50\n",
      "88/88 [==============================] - 984s 11s/step - loss: 0.0588 - accuracy: 0.9854 - val_loss: 0.0522 - val_accuracy: 0.9875\n",
      "Epoch 16/50\n",
      "88/88 [==============================] - 984s 11s/step - loss: 0.0392 - accuracy: 0.9907 - val_loss: 0.0519 - val_accuracy: 0.9875\n",
      "Epoch 17/50\n",
      "88/88 [==============================] - 990s 11s/step - loss: 0.0273 - accuracy: 0.9925 - val_loss: 0.1047 - val_accuracy: 0.9875\n",
      "Epoch 18/50\n",
      "88/88 [==============================] - 983s 11s/step - loss: 0.0446 - accuracy: 0.9896 - val_loss: 0.0489 - val_accuracy: 0.9875\n",
      "Epoch 19/50\n",
      "88/88 [==============================] - 982s 11s/step - loss: 0.0342 - accuracy: 0.9914 - val_loss: 0.1016 - val_accuracy: 0.9725\n",
      "Epoch 20/50\n",
      "88/88 [==============================] - 986s 11s/step - loss: 0.4418 - accuracy: 0.9057 - val_loss: 0.2888 - val_accuracy: 0.9400\n",
      "Epoch 21/50\n",
      "88/88 [==============================] - 987s 11s/step - loss: 0.3630 - accuracy: 0.9182 - val_loss: 0.1222 - val_accuracy: 0.9737\n",
      "Epoch 22/50\n",
      "88/88 [==============================] - 988s 11s/step - loss: 0.0937 - accuracy: 0.9793 - val_loss: 0.1153 - val_accuracy: 0.9800\n",
      "Epoch 23/50\n",
      "88/88 [==============================] - 1045s 12s/step - loss: 0.0603 - accuracy: 0.9850 - val_loss: 0.0506 - val_accuracy: 0.9887\n",
      "Epoch 24/50\n",
      "88/88 [==============================] - 1202s 14s/step - loss: 0.0923 - accuracy: 0.9771 - val_loss: 0.0623 - val_accuracy: 0.9850\n",
      "Epoch 25/50\n",
      "88/88 [==============================] - 1269s 14s/step - loss: 0.0573 - accuracy: 0.9861 - val_loss: 0.0511 - val_accuracy: 0.9875\n",
      "Epoch 26/50\n",
      "88/88 [==============================] - 1186s 13s/step - loss: 0.0568 - accuracy: 0.9854 - val_loss: 0.0530 - val_accuracy: 0.9887\n",
      "Epoch 27/50\n",
      "88/88 [==============================] - 1173s 13s/step - loss: 0.0462 - accuracy: 0.9893 - val_loss: 0.0530 - val_accuracy: 0.9862\n",
      "Epoch 28/50\n",
      "88/88 [==============================] - 1156s 13s/step - loss: 0.0396 - accuracy: 0.9900 - val_loss: 0.0528 - val_accuracy: 0.9862\n",
      "Epoch 29/50\n",
      "88/88 [==============================] - 1093s 12s/step - loss: 0.0420 - accuracy: 0.9900 - val_loss: 0.0509 - val_accuracy: 0.9887\n",
      "Epoch 30/50\n",
      "88/88 [==============================] - 999s 11s/step - loss: 0.0357 - accuracy: 0.9921 - val_loss: 0.1584 - val_accuracy: 0.9775\n",
      "Epoch 31/50\n",
      "88/88 [==============================] - 999s 11s/step - loss: 0.0623 - accuracy: 0.9864 - val_loss: 0.0845 - val_accuracy: 0.9825\n",
      "Epoch 32/50\n",
      "88/88 [==============================] - 1011s 11s/step - loss: 0.0317 - accuracy: 0.9896 - val_loss: 0.0466 - val_accuracy: 0.9887\n",
      "Epoch 33/50\n",
      "88/88 [==============================] - 1071s 12s/step - loss: 0.0421 - accuracy: 0.9893 - val_loss: 0.0527 - val_accuracy: 0.9875\n",
      "Epoch 34/50\n",
      "88/88 [==============================] - 974s 11s/step - loss: 0.0373 - accuracy: 0.9911 - val_loss: 0.0519 - val_accuracy: 0.9862\n",
      "Epoch 35/50\n",
      "88/88 [==============================] - 1029s 12s/step - loss: 0.0207 - accuracy: 0.9954 - val_loss: 0.0519 - val_accuracy: 0.9875\n",
      "Epoch 36/50\n",
      "88/88 [==============================] - 1096s 12s/step - loss: 0.0285 - accuracy: 0.9932 - val_loss: 0.0835 - val_accuracy: 0.9862\n",
      "Epoch 37/50\n",
      "88/88 [==============================] - 1195s 14s/step - loss: 0.0304 - accuracy: 0.9907 - val_loss: 0.0405 - val_accuracy: 0.9875\n",
      "Epoch 38/50\n",
      "88/88 [==============================] - 1205s 14s/step - loss: 0.0274 - accuracy: 0.9925 - val_loss: 0.0521 - val_accuracy: 0.9850\n",
      "Epoch 39/50\n",
      "88/88 [==============================] - 1244s 14s/step - loss: 0.0187 - accuracy: 0.9957 - val_loss: 0.0599 - val_accuracy: 0.9875\n",
      "Epoch 40/50\n",
      "88/88 [==============================] - 1239s 14s/step - loss: 0.0146 - accuracy: 0.9957 - val_loss: 0.0781 - val_accuracy: 0.9825\n",
      "Epoch 41/50\n",
      "88/88 [==============================] - 1379s 16s/step - loss: 0.0086 - accuracy: 0.9971 - val_loss: 0.0832 - val_accuracy: 0.9862\n",
      "Epoch 42/50\n",
      "88/88 [==============================] - 1359s 15s/step - loss: 0.0312 - accuracy: 0.9925 - val_loss: 0.0811 - val_accuracy: 0.9862\n",
      "Epoch 43/50\n",
      "88/88 [==============================] - 1303s 15s/step - loss: 0.0295 - accuracy: 0.9932 - val_loss: 0.0596 - val_accuracy: 0.9875\n",
      "Epoch 44/50\n",
      "88/88 [==============================] - 1271s 14s/step - loss: 0.0216 - accuracy: 0.9946 - val_loss: 0.0441 - val_accuracy: 0.9900\n",
      "Epoch 45/50\n",
      "88/88 [==============================] - 1296s 15s/step - loss: 0.0736 - accuracy: 0.9796 - val_loss: 0.0852 - val_accuracy: 0.9875\n",
      "Epoch 46/50\n",
      "88/88 [==============================] - 1363s 15s/step - loss: 0.0454 - accuracy: 0.9893 - val_loss: 0.0745 - val_accuracy: 0.9875\n",
      "Epoch 47/50\n",
      "88/88 [==============================] - 1455s 17s/step - loss: 0.0399 - accuracy: 0.9914 - val_loss: 0.0711 - val_accuracy: 0.9837\n",
      "Epoch 48/50\n",
      "88/88 [==============================] - 1317s 15s/step - loss: 0.0214 - accuracy: 0.9921 - val_loss: 0.0658 - val_accuracy: 0.9875\n",
      "Epoch 49/50\n",
      "88/88 [==============================] - 1335s 15s/step - loss: 0.0216 - accuracy: 0.9950 - val_loss: 0.0647 - val_accuracy: 0.9862\n",
      "Epoch 50/50\n",
      "88/88 [==============================] - 1159s 13s/step - loss: 0.0125 - accuracy: 0.9950 - val_loss: 0.0591 - val_accuracy: 0.9900\n"
     ]
    }
   ],
   "source": [
    "history = model.fit(X_train, Y_train, validation_data = (X_validate, Y_validate), epochs = 50, verbose = 1)\n",
    "# history = model.fit(X_train, Y_train, validation_data = (X_validate, Y_validate), epochs = 50, verbose = 1, callbacks = [es, mc])"
   ]
  },
  {
   "cell_type": "code",
   "execution_count": 24,
   "metadata": {},
   "outputs": [
    {
     "data": {
      "image/png": "[encoded data removed]",
      "text/plain": [
       "<Figure size 432x288 with 1 Axes>"
      ]
     },
     "metadata": {
      "needs_background": "light"
     },
     "output_type": "display_data"
    }
   ],
   "source": [
    "plt.plot(history.history['loss'])\n",
    "plt.plot(history.history['val_loss'])\n",
    "plt.legend(['training', 'validation'], loc = 'upper right')\n",
    "plt.title('Training and validation loss')\n",
    "plt.show()"
   ]
  },
  {
   "cell_type": "code",
   "execution_count": 25,
   "metadata": {},
   "outputs": [
    {
     "data": {
      "image/png": "[encoded data removed]",
      "text/plain": [
       "<Figure size 432x288 with 1 Axes>"
      ]
     },
     "metadata": {
      "needs_background": "light"
     },
     "output_type": "display_data"
    }
   ],
   "source": [
    "plt.plot(history.history['accuracy'])\n",
    "plt.plot(history.history['val_accuracy'])\n",
    "plt.legend(['training', 'validation'], loc = 0)\n",
    "plt.title('Training and validation accuracy')\n",
    "plt.show()"
   ]
  },
  {
   "cell_type": "code",
   "execution_count": 26,
   "metadata": {},
   "outputs": [
    {
     "name": "stdout",
     "output_type": "stream",
     "text": [
      "13/13 [==============================] - 31s 2s/step - loss: 0.0347 - accuracy: 0.9850\n"
     ]
    },
    {
     "data": {
      "text/plain": [
       "[0.034684158861637115, 0.9850000143051147]"
      ]
     },
     "execution_count": 26,
     "metadata": {},
     "output_type": "execute_result"
    }
   ],
   "source": [
    "model.evaluate(X_test, Y_test)"
   ]
  },
  {
   "cell_type": "code",
   "execution_count": 27,
   "metadata": {},
   "outputs": [],
   "source": [
    "from keras.models import load_model\n",
    "model.save(\"from_VGGNET_final.h5\")"
   ]
  },
  {
   "cell_type": "code",
   "execution_count": 29,
   "metadata": {},
   "outputs": [],
   "source": [
    "model.save_weights(\"from_VGGNET_final_weights.h5\")"
   ]
  },
  {
   "cell_type": "code",
   "execution_count": null,
   "metadata": {},
   "outputs": [],
   "source": []
  }
 ],
 "metadata": {
  "kernelspec": {
   "display_name": "Python 3",
   "language": "python",
   "name": "python3"
  },
  "language_info": {
   "codemirror_mode": {
    "name": "ipython",
    "version": 3
   },
   "file_extension": ".py",
   "mimetype": "text/x-python",
   "name": "python",
   "nbconvert_exporter": "python",
   "pygments_lexer": "ipython3",
   "version": "3.8.3"
  }
 },
 "nbformat": 4,
 "nbformat_minor": 4
}
