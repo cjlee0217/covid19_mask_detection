{
 "cells": [
  {
   "cell_type": "code",
   "execution_count": 1,
   "metadata": {},
   "outputs": [],
   "source": [
    "import os\n",
    "import numpy as np\n",
    "np.random.seed(1120)\n",
    "from sklearn.model_selection import train_test_split\n",
    "import cv2\n",
    "\n",
    "top_path = 'mask_dataset/' # 안에 chin_mask , full_mask... 로 하위 폴더가 있는 상위 폴더 경로\n",
    "\n",
    "save_path = 'mask_dataset_final/' # 저장할 경로 (안에 빈 train , test 폴더 먼저 만들어 놓고 실행)\n",
    "\n",
    "folders = os.listdir(top_path)\n",
    "\n",
    "for folder in folders:\n",
    "    \n",
    "    files = os.listdir(top_path+folder+'/')\n",
    "    \n",
    "    image_files = [file for file in files if file.endswith(\".png\")]\n",
    "    \n",
    "    image_1000 = image_files[-1000:]\n",
    "    \n",
    "    train,test = train_test_split(image_1000,test_size=0.1,random_state=1120)\n",
    "    train,validate = train_test_split(train,test_size=(2/9),random_state=1120)\n",
    "    \n",
    "    for img in train:\n",
    "        original=cv2.imread(top_path+folder+'/'+img)\n",
    "        cv2.imwrite(save_path+'train/'+folder+'/'+img, original.copy())\n",
    "        \n",
    "    for img in validate:\n",
    "        original=cv2.imread(top_path+folder+'/'+img)\n",
    "        cv2.imwrite(save_path+'validate/'+folder+'/'+img, original.copy())\n",
    "        \n",
    "    for img in test:\n",
    "        original=cv2.imread(top_path+folder+'/'+img)\n",
    "        cv2.imwrite(save_path+'test/'+folder+'/'+img, original.copy())"
   ]
  },
  {
   "cell_type": "code",
   "execution_count": 20,
   "metadata": {},
   "outputs": [],
   "source": [
    "train_img_path = \"mask_dataset_final/train/\"\n",
    "categories = os.listdir(train_img_path)\n",
    "num_classes = len(categories)"
   ]
  },
  {
   "cell_type": "code",
   "execution_count": 55,
   "metadata": {},
   "outputs": [],
   "source": [
    "test_img_path = \"mask_dataset_final/test/\"\n",
    "categories2 = os.listdir(test_img_path)\n",
    "num_classes2 = len(categories2)"
   ]
  },
  {
   "cell_type": "code",
   "execution_count": 39,
   "metadata": {},
   "outputs": [],
   "source": [
    "X_train = []\n",
    "Y_train = []\n",
    "for idx, category in enumerate(categories):\n",
    "    label = [0 for i in range(num_classes)]\n",
    "    label[idx] = 1\n",
    "    img_path = train_img_path + category + '/'\n",
    "  \n",
    "    for dirpath, dirnames, filenames in os.walk(img_path):\n",
    "        for filename in filenames:\n",
    "#             print(img_path+filename, label)\n",
    "            img = cv2.imread(img_path+filename)\n",
    "            X_train.append(img/255)\n",
    "            Y_train.append(label)\n",
    "\n",
    "X_train = np.array(X_train)\n",
    "Y_train = np.array(Y_train)"
   ]
  },
  {
   "cell_type": "code",
   "execution_count": 56,
   "metadata": {},
   "outputs": [],
   "source": [
    "X_test = []\n",
    "Y_test = []\n",
    "for idx, category in enumerate(categories2):\n",
    "    label2 = [0 for i in range(num_classes2)]\n",
    "    label2[idx] = 1\n",
    "    img_path2 = test_img_path + category + '/'\n",
    "  \n",
    "    for dirpath, dirnames, filenames in os.walk(img_path2):\n",
    "        for filename in filenames:\n",
    "#             print(img_path+filename, label)\n",
    "            img2 = cv2.imread(img_path2+filename)\n",
    "            X_test.append(img2/255)\n",
    "            Y_test.append(label2)\n",
    "\n",
    "X_test = np.array(X_test)\n",
    "Y_test = np.array(Y_test)"
   ]
  },
  {
   "cell_type": "code",
   "execution_count": 58,
   "metadata": {},
   "outputs": [
    {
     "data": {
      "text/plain": [
       "(2800, 90, 120, 3)"
      ]
     },
     "execution_count": 58,
     "metadata": {},
     "output_type": "execute_result"
    }
   ],
   "source": [
    "X_train.shape"
   ]
  },
  {
   "cell_type": "code",
   "execution_count": 1,
   "metadata": {},
   "outputs": [],
   "source": [
    "from keras.models import Sequential\n",
    "from keras.layers import Dense, Conv2D, MaxPooling2D, Flatten"
   ]
  },
  {
   "cell_type": "code",
   "execution_count": 63,
   "metadata": {},
   "outputs": [],
   "source": [
    "model = Sequential()\n",
    "\n",
    "model.add(Conv2D(64, 3, padding = 'same', activation = 'relu', input_shape = (90, 120, 3)))\n",
    "model.add(Conv2D(64, 3, padding = 'same', activation = 'relu'))\n",
    "model.add(MaxPooling2D(2))\n",
    "\n",
    "model.add(Conv2D(128, 3, padding = 'same', activation = 'relu'))\n",
    "model.add(Conv2D(128, 3, padding = 'same', activation = 'relu'))\n",
    "model.add(MaxPooling2D(2))\n",
    "\n",
    "model.add(Conv2D(256, 3, padding = 'same', activation = 'relu'))\n",
    "model.add(Conv2D(256, 3, padding = 'same', activation = 'relu'))\n",
    "model.add(Conv2D(256, 3, padding = 'same', activation = 'relu'))\n",
    "model.add(MaxPooling2D(2))\n",
    "\n",
    "model.add(Conv2D(512, 3, padding = 'same', activation = 'relu'))\n",
    "model.add(Conv2D(512, 3, padding = 'same', activation = 'relu'))\n",
    "model.add(Conv2D(512, 3, padding = 'same', activation = 'relu'))\n",
    "model.add(MaxPooling2D(2))\n",
    "\n",
    "# model.add(Conv2D(512, 3, padding = 'same', activation = 'relu'))\n",
    "# model.add(Conv2D(512, 3, padding = 'same', activation = 'relu'))\n",
    "# model.add(Conv2D(512, 3, padding = 'same', activation = 'relu'))\n",
    "# model.add(MaxPooling2D(2))\n",
    "\n",
    "model.add(Flatten())\n",
    "model.add(Dense(512, activation = 'relu'))\n",
    "model.add(Dense(512, activation = 'relu'))\n",
    "model.add(Dense(4, activation = 'softmax'))"
   ]
  },
  {
   "cell_type": "code",
   "execution_count": 64,
   "metadata": {},
   "outputs": [
    {
     "name": "stdout",
     "output_type": "stream",
     "text": [
      "Model: \"sequential_5\"\n",
      "_________________________________________________________________\n",
      "Layer (type)                 Output Shape              Param #   \n",
      "=================================================================\n",
      "conv2d_50 (Conv2D)           (None, 90, 120, 64)       1792      \n",
      "_________________________________________________________________\n",
      "conv2d_51 (Conv2D)           (None, 90, 120, 64)       36928     \n",
      "_________________________________________________________________\n",
      "max_pooling2d_20 (MaxPooling (None, 45, 60, 64)        0         \n",
      "_________________________________________________________________\n",
      "conv2d_52 (Conv2D)           (None, 45, 60, 128)       73856     \n",
      "_________________________________________________________________\n",
      "conv2d_53 (Conv2D)           (None, 45, 60, 128)       147584    \n",
      "_________________________________________________________________\n",
      "max_pooling2d_21 (MaxPooling (None, 22, 30, 128)       0         \n",
      "_________________________________________________________________\n",
      "conv2d_54 (Conv2D)           (None, 22, 30, 256)       295168    \n",
      "_________________________________________________________________\n",
      "conv2d_55 (Conv2D)           (None, 22, 30, 256)       590080    \n",
      "_________________________________________________________________\n",
      "conv2d_56 (Conv2D)           (None, 22, 30, 256)       590080    \n",
      "_________________________________________________________________\n",
      "max_pooling2d_22 (MaxPooling (None, 11, 15, 256)       0         \n",
      "_________________________________________________________________\n",
      "conv2d_57 (Conv2D)           (None, 11, 15, 512)       1180160   \n",
      "_________________________________________________________________\n",
      "conv2d_58 (Conv2D)           (None, 11, 15, 512)       2359808   \n",
      "_________________________________________________________________\n",
      "conv2d_59 (Conv2D)           (None, 11, 15, 512)       2359808   \n",
      "_________________________________________________________________\n",
      "max_pooling2d_23 (MaxPooling (None, 5, 7, 512)         0         \n",
      "_________________________________________________________________\n",
      "flatten_5 (Flatten)          (None, 17920)             0         \n",
      "_________________________________________________________________\n",
      "dense_15 (Dense)             (None, 512)               9175552   \n",
      "_________________________________________________________________\n",
      "dense_16 (Dense)             (None, 512)               262656    \n",
      "_________________________________________________________________\n",
      "dense_17 (Dense)             (None, 4)                 2052      \n",
      "=================================================================\n",
      "Total params: 17,075,524\n",
      "Trainable params: 17,075,524\n",
      "Non-trainable params: 0\n",
      "_________________________________________________________________\n"
     ]
    }
   ],
   "source": [
    "model.summary()"
   ]
  },
  {
   "cell_type": "code",
   "execution_count": 65,
   "metadata": {},
   "outputs": [],
   "source": [
    "model.compile(loss = 'categorical_crossentropy', optimizer = 'adam', metrics = ['accuracy'])\n",
    "# model.compile(loss = 'sparse_categorical_crossentropy', optimizer = 'adam', metrics = ['accuracy'])"
   ]
  },
  {
   "cell_type": "code",
   "execution_count": 71,
   "metadata": {},
   "outputs": [
    {
     "name": "stdout",
     "output_type": "stream",
     "text": [
      "Epoch 1/10\n",
      "10/10 [==============================] - 419s 42s/step - loss: 1.3829 - accuracy: 0.2500 - val_loss: 1.3790 - val_accuracy: 0.4183\n",
      "Epoch 2/10\n",
      "10/10 [==============================] - 409s 41s/step - loss: 1.3938 - accuracy: 0.3532 - val_loss: 1.2942 - val_accuracy: 0.6517\n",
      "Epoch 3/10\n",
      "10/10 [==============================] - 406s 41s/step - loss: 1.4739 - accuracy: 0.4814 - val_loss: 1.2844 - val_accuracy: 0.4158\n",
      "Epoch 4/10\n",
      "10/10 [==============================] - 410s 41s/step - loss: 1.0838 - accuracy: 0.5914 - val_loss: 1.1796 - val_accuracy: 0.6875\n",
      "Epoch 5/10\n",
      "10/10 [==============================] - 411s 41s/step - loss: 0.5975 - accuracy: 0.8225 - val_loss: 0.2236 - val_accuracy: 0.9508\n",
      "Epoch 6/10\n",
      "10/10 [==============================] - 410s 41s/step - loss: 0.1705 - accuracy: 0.9571 - val_loss: 0.1510 - val_accuracy: 0.9575\n",
      "Epoch 7/10\n",
      "10/10 [==============================] - 410s 41s/step - loss: 0.1197 - accuracy: 0.9679 - val_loss: 0.1259 - val_accuracy: 0.9642\n",
      "Epoch 8/10\n",
      "10/10 [==============================] - 402s 40s/step - loss: 0.1026 - accuracy: 0.9761 - val_loss: 0.0726 - val_accuracy: 0.9792\n",
      "Epoch 9/10\n",
      "10/10 [==============================] - 403s 40s/step - loss: 0.0798 - accuracy: 0.9807 - val_loss: 0.0510 - val_accuracy: 0.9842\n",
      "Epoch 10/10\n",
      "10/10 [==============================] - 401s 40s/step - loss: 0.0670 - accuracy: 0.9854 - val_loss: 0.0447 - val_accuracy: 0.9867\n"
     ]
    }
   ],
   "source": [
    "history = model.fit(X_train, Y_train, validation_data = (X_test, Y_test), batch_size = 280, epochs = 10, verbose = 1)"
   ]
  },
  {
   "cell_type": "code",
   "execution_count": 73,
   "metadata": {},
   "outputs": [
    {
     "data": {
      "image/png": "[encoded data removed]",
      "text/plain": [
       "<Figure size 432x288 with 1 Axes>"
      ]
     },
     "metadata": {
      "needs_background": "light"
     },
     "output_type": "display_data"
    }
   ],
   "source": [
    "import matplotlib.pyplot as plt\n",
    "plt.plot(history.history['loss'])\n",
    "plt.plot(history.history['val_loss'])\n",
    "plt.legend(['training', 'validation'], loc = 'upper right')\n",
    "plt.show()"
   ]
  },
  {
   "cell_type": "code",
   "execution_count": 74,
   "metadata": {},
   "outputs": [
    {
     "data": {
      "image/png": "[encoded data removed]",
      "text/plain": [
       "<Figure size 432x288 with 1 Axes>"
      ]
     },
     "metadata": {
      "needs_background": "light"
     },
     "output_type": "display_data"
    }
   ],
   "source": [
    "plt.plot(history.history['accuracy'])\n",
    "plt.plot(history.history['val_accuracy'])\n",
    "plt.legend(['training', 'validation'], loc = 'upper right')\n",
    "plt.show()"
   ]
  },
  {
   "cell_type": "code",
   "execution_count": 75,
   "metadata": {},
   "outputs": [
    {
     "name": "stdout",
     "output_type": "stream",
     "text": [
      "38/38 [==============================] - 40s 1s/step - loss: 0.0447 - accuracy: 0.9867\n"
     ]
    },
    {
     "data": {
      "text/plain": [
       "[0.04474639892578125, 0.9866666793823242]"
      ]
     },
     "execution_count": 75,
     "metadata": {},
     "output_type": "execute_result"
    }
   ],
   "source": [
    "model.evaluate(X_test, Y_test)"
   ]
  },
  {
   "cell_type": "code",
   "execution_count": null,
   "metadata": {},
   "outputs": [],
   "source": []
  }
 ],
 "metadata": {
  "kernelspec": {
   "display_name": "Python 3",
   "language": "python",
   "name": "python3"
  },
  "language_info": {
   "codemirror_mode": {
    "name": "ipython",
    "version": 3
   },
   "file_extension": ".py",
   "mimetype": "text/x-python",
   "name": "python",
   "nbconvert_exporter": "python",
   "pygments_lexer": "ipython3",
   "version": "3.8.3"
  }
 },
 "nbformat": 4,
 "nbformat_minor": 4
}
