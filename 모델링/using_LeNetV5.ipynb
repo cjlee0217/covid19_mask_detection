{
 "cells": [
  {
   "cell_type": "code",
   "execution_count": 106,
   "metadata": {},
   "outputs": [],
   "source": [
    "import cv2\n",
    "import os\n",
    "import numpy as np\n",
    "np.random.seed(1120)\n",
    "from sklearn.model_selection import train_test_split\n",
    "\n"
   ]
  },
  {
   "cell_type": "code",
   "execution_count": 70,
   "metadata": {},
   "outputs": [],
   "source": [
    "top_path = 'C:/Users/USER/Desktop/mask_data/' # 안에 chin_mask , full_mask... 로 하위 폴더가 있는 상위 폴더 경로\n",
    "\n",
    "save_path = 'C:/Users/USER/Desktop/save_data/' # 저장할 경로 (안에 빈 train , test 폴더 먼저 만들어 놓고 실행)\n",
    "\n",
    "\n",
    "folders = os.listdir(top_path)\n",
    "\n",
    "for folder in folders:\n",
    "    \n",
    "    files = os.listdir(top_path+folder+'/')\n",
    "    \n",
    "    image_files = [file for file in files if file.endswith(\".png\")]\n",
    "    \n",
    "    image_1000 = image_files[-1000:]\n",
    "    \n",
    "    train,test = train_test_split(image_1000,test_size=0.1,random_state=1120)\n",
    "    train,validate = train_test_split(train,test_size=(2/9),random_state=1120)\n",
    "    \n",
    "    for img in train:\n",
    "        original=cv2.imread(top_path+folder+'/'+img)\n",
    "        cv2.imwrite(save_path+'train/'+folder+'/'+img, original.copy())\n",
    "        \n",
    "    for img in validate:\n",
    "        original=cv2.imread(top_path+folder+'/'+img)\n",
    "        cv2.imwrite(save_path+'validate/'+folder+'/'+img, original.copy())\n",
    "        \n",
    "    for img in test:\n",
    "        original=cv2.imread(top_path+folder+'/'+img)\n",
    "        cv2.imwrite(save_path+'test/'+folder+'/'+img, original.copy())"
   ]
  },
  {
   "cell_type": "code",
   "execution_count": 2,
   "metadata": {},
   "outputs": [],
   "source": []
  },
  {
   "cell_type": "code",
   "execution_count": 107,
   "metadata": {},
   "outputs": [],
   "source": [
    "train_datagen = ImageDataGenerator(rescale = 1/255.,\n",
    "                                  rotation_range=15,\n",
    "                                  width_shift_range=0.1,\n",
    "                                  height_shift_range=0.1,\n",
    "                                  shear_range=0.5,\n",
    "                                  zoom_range=[0.8,2.0],\n",
    "                                  horizontal_flip=True,\n",
    "                                  vertical_flip=True,\n",
    "                                  fill_mode='nearest')\n",
    "validate_datagen = ImageDataGenerator(rescale=1/255.)\n",
    "test_datagen = ImageDataGenerator(rescale=1/255.)"
   ]
  },
  {
   "cell_type": "code",
   "execution_count": 108,
   "metadata": {},
   "outputs": [
    {
     "name": "stdout",
     "output_type": "stream",
     "text": [
      "Found 2800 images belonging to 4 classes.\n",
      "Found 800 images belonging to 4 classes.\n",
      "Found 400 images belonging to 4 classes.\n"
     ]
    }
   ],
   "source": [
    "train_generator=train_datagen.flow_from_directory(\n",
    "    \"C:/Users/USER/Desktop/save_data/train/\",\n",
    "    batch_size=10,\n",
    "    target_size=(120,90),\n",
    "    class_mode='categorical')\n",
    "\n",
    "validation_generator=validate_datagen.flow_from_directory(\n",
    "    \"C:/Users/USER/Desktop/save_data/validate/\",\n",
    "    batch_size=10,\n",
    "    target_size=(120,90),\n",
    "    class_mode='categorical')\n",
    "\n",
    "test_generator=test_datagen.flow_from_directory(\n",
    "    \"C:/Users/USER/Desktop/save_data/test/\",\n",
    "    batch_size=10,\n",
    "    target_size=(120,90),\n",
    "    class_mode='categorical')"
   ]
  },
  {
   "cell_type": "code",
   "execution_count": 109,
   "metadata": {},
   "outputs": [],
   "source": [
    "from keras.preprocessing.image import ImageDataGenerator, load_img\n",
    "from keras.utils import to_categorical\n",
    "from keras.models import Sequential\n",
    "from keras.layers import Dense, Activation, Flatten, Conv2D, MaxPool2D, BatchNormalization, Dropout\n",
    "from keras.optimizers import Adam"
   ]
  },
  {
   "cell_type": "code",
   "execution_count": null,
   "metadata": {},
   "outputs": [],
   "source": []
  },
  {
   "cell_type": "code",
   "execution_count": 110,
   "metadata": {
    "scrolled": true
   },
   "outputs": [
    {
     "name": "stdout",
     "output_type": "stream",
     "text": [
      "Model: \"sequential_13\"\n",
      "_________________________________________________________________\n",
      "Layer (type)                 Output Shape              Param #   \n",
      "=================================================================\n",
      "conv2d_21 (Conv2D)           (None, 120, 90, 32)       2432      \n",
      "_________________________________________________________________\n",
      "max_pooling2d_18 (MaxPooling (None, 60, 45, 32)        0         \n",
      "_________________________________________________________________\n",
      "conv2d_22 (Conv2D)           (None, 56, 41, 48)        38448     \n",
      "_________________________________________________________________\n",
      "max_pooling2d_19 (MaxPooling (None, 28, 20, 48)        0         \n",
      "_________________________________________________________________\n",
      "flatten_8 (Flatten)          (None, 26880)             0         \n",
      "_________________________________________________________________\n",
      "dense_23 (Dense)             (None, 256)               6881536   \n",
      "_________________________________________________________________\n",
      "dense_24 (Dense)             (None, 84)                21588     \n",
      "_________________________________________________________________\n",
      "dense_25 (Dense)             (None, 4)                 340       \n",
      "=================================================================\n",
      "Total params: 6,944,344\n",
      "Trainable params: 6,944,344\n",
      "Non-trainable params: 0\n",
      "_________________________________________________________________\n"
     ]
    }
   ],
   "source": [
    "model = Sequential()\n",
    "\n",
    "model.add(Conv2D(filters=32, kernel_size=(5,5), padding='same', activation='relu', input_shape=(120, 90, 3)))\n",
    "model.add(MaxPool2D(strides=2))\n",
    "model.add(Conv2D(filters=48, kernel_size=(5,5), padding='valid', activation='relu'))\n",
    "model.add(MaxPool2D(strides=2))\n",
    "model.add(Flatten())\n",
    "model.add(Dense(256, activation='relu'))\n",
    "model.add(Dense(84, activation='relu'))\n",
    "model.add(Dense(4, activation='softmax'))\n",
    "\n",
    "model.build()\n",
    "model.summary()"
   ]
  },
  {
   "cell_type": "code",
   "execution_count": 111,
   "metadata": {},
   "outputs": [],
   "source": [
    "adam = Adam(lr=5e-4)\n",
    "model.compile(loss='categorical_crossentropy', metrics=['accuracy'], optimizer=adam)"
   ]
  },
  {
   "cell_type": "code",
   "execution_count": 27,
   "metadata": {},
   "outputs": [],
   "source": []
  },
  {
   "cell_type": "code",
   "execution_count": 58,
   "metadata": {},
   "outputs": [],
   "source": [
    "from keras.callbacks import EarlyStopping, ReduceLROnPlateau"
   ]
  },
  {
   "cell_type": "code",
   "execution_count": 90,
   "metadata": {},
   "outputs": [],
   "source": [
    "earlystop = EarlyStopping(monitor='val_loss',mode='min',verbose=1, patience=5)"
   ]
  },
  {
   "cell_type": "code",
   "execution_count": 92,
   "metadata": {},
   "outputs": [],
   "source": [
    "callbacks = [earlystop]"
   ]
  },
  {
   "cell_type": "code",
   "execution_count": 113,
   "metadata": {},
   "outputs": [
    {
     "name": "stdout",
     "output_type": "stream",
     "text": [
      "Epoch 1/50\n",
      "280/280 - 93s - loss: 0.3902 - accuracy: 0.8586 - val_loss: 0.2002 - val_accuracy: 0.9488\n",
      "Epoch 2/50\n",
      "280/280 - 74s - loss: 0.2597 - accuracy: 0.9082 - val_loss: 0.1119 - val_accuracy: 0.9688\n",
      "Epoch 3/50\n",
      "280/280 - 69s - loss: 0.2280 - accuracy: 0.9225 - val_loss: 0.1161 - val_accuracy: 0.9650\n",
      "Epoch 4/50\n",
      "280/280 - 61s - loss: 0.1975 - accuracy: 0.9293 - val_loss: 0.1393 - val_accuracy: 0.9538\n",
      "Epoch 5/50\n",
      "280/280 - 68s - loss: 0.1867 - accuracy: 0.9375 - val_loss: 0.0842 - val_accuracy: 0.9775\n",
      "Epoch 6/50\n",
      "280/280 - 63s - loss: 0.1546 - accuracy: 0.9439 - val_loss: 0.0998 - val_accuracy: 0.9737\n",
      "Epoch 7/50\n",
      "280/280 - 66s - loss: 0.1664 - accuracy: 0.9379 - val_loss: 0.0779 - val_accuracy: 0.9787\n",
      "Epoch 8/50\n",
      "280/280 - 64s - loss: 0.1514 - accuracy: 0.9496 - val_loss: 0.0983 - val_accuracy: 0.9787\n",
      "Epoch 9/50\n",
      "280/280 - 67s - loss: 0.1817 - accuracy: 0.9361 - val_loss: 0.2056 - val_accuracy: 0.9375\n",
      "Epoch 10/50\n",
      "280/280 - 61s - loss: 0.1611 - accuracy: 0.9446 - val_loss: 0.0689 - val_accuracy: 0.9850\n",
      "Epoch 11/50\n",
      "280/280 - 64s - loss: 0.1184 - accuracy: 0.9571 - val_loss: 0.1107 - val_accuracy: 0.9613\n",
      "Epoch 12/50\n",
      "280/280 - 61s - loss: 0.1289 - accuracy: 0.9550 - val_loss: 0.1531 - val_accuracy: 0.9425\n",
      "Epoch 13/50\n",
      "280/280 - 65s - loss: 0.1299 - accuracy: 0.9561 - val_loss: 0.0767 - val_accuracy: 0.9850\n",
      "Epoch 14/50\n",
      "280/280 - 62s - loss: 0.1311 - accuracy: 0.9554 - val_loss: 0.0728 - val_accuracy: 0.9837\n",
      "Epoch 15/50\n",
      "280/280 - 63s - loss: 0.1244 - accuracy: 0.9654 - val_loss: 0.0836 - val_accuracy: 0.9750\n",
      "Epoch 16/50\n",
      "280/280 - 62s - loss: 0.1181 - accuracy: 0.9614 - val_loss: 0.0755 - val_accuracy: 0.9800\n",
      "Epoch 17/50\n",
      "280/280 - 70s - loss: 0.1146 - accuracy: 0.9621 - val_loss: 0.0638 - val_accuracy: 0.9812\n",
      "Epoch 18/50\n",
      "280/280 - 70s - loss: 0.1092 - accuracy: 0.9636 - val_loss: 0.0987 - val_accuracy: 0.9675\n",
      "Epoch 19/50\n",
      "280/280 - 67s - loss: 0.1025 - accuracy: 0.9639 - val_loss: 0.0454 - val_accuracy: 0.9862\n",
      "Epoch 20/50\n",
      "280/280 - 70s - loss: 0.1066 - accuracy: 0.9632 - val_loss: 0.0662 - val_accuracy: 0.9800\n",
      "Epoch 21/50\n",
      "280/280 - 66s - loss: 0.1068 - accuracy: 0.9654 - val_loss: 0.0570 - val_accuracy: 0.9812\n",
      "Epoch 22/50\n",
      "280/280 - 70s - loss: 0.1289 - accuracy: 0.9546 - val_loss: 0.0697 - val_accuracy: 0.9837\n",
      "Epoch 23/50\n",
      "280/280 - 63s - loss: 0.1104 - accuracy: 0.9600 - val_loss: 0.0621 - val_accuracy: 0.9775\n",
      "Epoch 24/50\n",
      "280/280 - 65s - loss: 0.0755 - accuracy: 0.9721 - val_loss: 0.0594 - val_accuracy: 0.9787\n",
      "Epoch 25/50\n",
      "280/280 - 65s - loss: 0.1171 - accuracy: 0.9589 - val_loss: 0.0668 - val_accuracy: 0.9787\n",
      "Epoch 26/50\n",
      "280/280 - 64s - loss: 0.0915 - accuracy: 0.9704 - val_loss: 0.0636 - val_accuracy: 0.9825\n",
      "Epoch 27/50\n",
      "280/280 - 68s - loss: 0.0939 - accuracy: 0.9704 - val_loss: 0.0629 - val_accuracy: 0.9837\n",
      "Epoch 28/50\n",
      "280/280 - 64s - loss: 0.1052 - accuracy: 0.9664 - val_loss: 0.0657 - val_accuracy: 0.9775\n",
      "Epoch 29/50\n",
      "280/280 - 65s - loss: 0.0891 - accuracy: 0.9696 - val_loss: 0.0570 - val_accuracy: 0.9825\n",
      "Epoch 30/50\n",
      "280/280 - 65s - loss: 0.0879 - accuracy: 0.9693 - val_loss: 0.0845 - val_accuracy: 0.9725\n",
      "Epoch 31/50\n",
      "280/280 - 67s - loss: 0.1008 - accuracy: 0.9693 - val_loss: 0.0488 - val_accuracy: 0.9850\n",
      "Epoch 32/50\n",
      "280/280 - 69s - loss: 0.0748 - accuracy: 0.9768 - val_loss: 0.0354 - val_accuracy: 0.9900\n",
      "Epoch 33/50\n",
      "280/280 - 63s - loss: 0.0952 - accuracy: 0.9693 - val_loss: 0.0493 - val_accuracy: 0.9775\n",
      "Epoch 34/50\n",
      "280/280 - 66s - loss: 0.0839 - accuracy: 0.9729 - val_loss: 0.0467 - val_accuracy: 0.9837\n",
      "Epoch 35/50\n",
      "280/280 - 71s - loss: 0.0952 - accuracy: 0.9689 - val_loss: 0.0640 - val_accuracy: 0.9800\n",
      "Epoch 36/50\n",
      "280/280 - 67s - loss: 0.0708 - accuracy: 0.9761 - val_loss: 0.0648 - val_accuracy: 0.9737\n",
      "Epoch 37/50\n",
      "280/280 - 66s - loss: 0.0859 - accuracy: 0.9746 - val_loss: 0.0658 - val_accuracy: 0.9775\n",
      "Epoch 38/50\n",
      "280/280 - 67s - loss: 0.0646 - accuracy: 0.9779 - val_loss: 0.0403 - val_accuracy: 0.9875\n",
      "Epoch 39/50\n",
      "280/280 - 71s - loss: 0.0956 - accuracy: 0.9650 - val_loss: 0.0801 - val_accuracy: 0.9663\n",
      "Epoch 40/50\n",
      "280/280 - 68s - loss: 0.0782 - accuracy: 0.9725 - val_loss: 0.0435 - val_accuracy: 0.9837\n",
      "Epoch 41/50\n",
      "280/280 - 75s - loss: 0.0980 - accuracy: 0.9689 - val_loss: 0.0589 - val_accuracy: 0.9762\n",
      "Epoch 42/50\n",
      "280/280 - 68s - loss: 0.0670 - accuracy: 0.9761 - val_loss: 0.0427 - val_accuracy: 0.9900\n",
      "Epoch 43/50\n",
      "280/280 - 78s - loss: 0.0718 - accuracy: 0.9757 - val_loss: 0.0433 - val_accuracy: 0.9850\n",
      "Epoch 44/50\n",
      "280/280 - 74s - loss: 0.0687 - accuracy: 0.9743 - val_loss: 0.0666 - val_accuracy: 0.9737\n",
      "Epoch 45/50\n",
      "280/280 - 68s - loss: 0.0797 - accuracy: 0.9739 - val_loss: 0.0734 - val_accuracy: 0.9787\n",
      "Epoch 46/50\n",
      "280/280 - 70s - loss: 0.0716 - accuracy: 0.9761 - val_loss: 0.0704 - val_accuracy: 0.9787\n",
      "Epoch 47/50\n",
      "280/280 - 67s - loss: 0.0713 - accuracy: 0.9771 - val_loss: 0.0685 - val_accuracy: 0.9787\n",
      "Epoch 48/50\n",
      "280/280 - 66s - loss: 0.0724 - accuracy: 0.9771 - val_loss: 0.0407 - val_accuracy: 0.9862\n",
      "Epoch 49/50\n",
      "280/280 - 64s - loss: 0.0731 - accuracy: 0.9764 - val_loss: 0.0418 - val_accuracy: 0.9887\n",
      "Epoch 50/50\n",
      "280/280 - 61s - loss: 0.0658 - accuracy: 0.9779 - val_loss: 0.0793 - val_accuracy: 0.9675\n"
     ]
    }
   ],
   "source": [
    "history = model.fit(\n",
    "    train_generator,\n",
    "    validation_data = validation_generator,\n",
    "    steps_per_epoch=280,\n",
    "    epochs=50,\n",
    "    validation_steps=80,\n",
    "    verbose=1\n",
    ")"
   ]
  },
  {
   "cell_type": "code",
   "execution_count": 68,
   "metadata": {
    "scrolled": true
   },
   "outputs": [
    {
     "name": "stdout",
     "output_type": "stream",
     "text": [
      "Epoch 1/50\n",
      "280/280 [==============================] - 78s 278ms/step - loss: 0.5785 - accuracy: 0.7650 - val_loss: 0.4530 - val_accuracy: 0.8217\n",
      "Epoch 2/50\n",
      "280/280 [==============================] - 66s 235ms/step - loss: 0.3343 - accuracy: 0.8775 - val_loss: 0.3229 - val_accuracy: 0.9067\n",
      "Epoch 3/50\n",
      "280/280 [==============================] - 67s 239ms/step - loss: 0.2705 - accuracy: 0.9089 - val_loss: 0.1244 - val_accuracy: 0.9733\n",
      "Epoch 4/50\n",
      "280/280 [==============================] - 79s 282ms/step - loss: 0.2223 - accuracy: 0.9243 - val_loss: 0.1182 - val_accuracy: 0.9667\n",
      "Epoch 5/50\n",
      "280/280 [==============================] - 85s 305ms/step - loss: 0.2025 - accuracy: 0.9293 - val_loss: 0.1220 - val_accuracy: 0.9600\n",
      "Epoch 6/50\n",
      "280/280 [==============================] - 93s 333ms/step - loss: 0.1919 - accuracy: 0.9375 - val_loss: 0.0946 - val_accuracy: 0.9767\n",
      "Epoch 7/50\n",
      "280/280 [==============================] - 87s 310ms/step - loss: 0.1990 - accuracy: 0.9336 - val_loss: 0.0953 - val_accuracy: 0.9800\n",
      "Epoch 8/50\n",
      "280/280 [==============================] - 87s 311ms/step - loss: 0.1763 - accuracy: 0.9421 - val_loss: 0.1020 - val_accuracy: 0.9783\n",
      "Epoch 9/50\n",
      "280/280 [==============================] - 88s 313ms/step - loss: 0.1590 - accuracy: 0.9479 - val_loss: 0.1139 - val_accuracy: 0.9642\n",
      "Epoch 10/50\n",
      "280/280 [==============================] - 91s 325ms/step - loss: 0.1444 - accuracy: 0.9550 - val_loss: 0.0724 - val_accuracy: 0.9800\n",
      "Epoch 11/50\n",
      "280/280 [==============================] - 89s 317ms/step - loss: 0.1418 - accuracy: 0.9557 - val_loss: 0.0550 - val_accuracy: 0.9825\n",
      "Epoch 12/50\n",
      "280/280 [==============================] - 92s 330ms/step - loss: 0.1483 - accuracy: 0.9514 - val_loss: 0.1210 - val_accuracy: 0.9575\n",
      "Epoch 13/50\n",
      "280/280 [==============================] - 91s 323ms/step - loss: 0.1428 - accuracy: 0.9529 - val_loss: 0.0745 - val_accuracy: 0.9842\n",
      "Epoch 14/50\n",
      "280/280 [==============================] - 84s 301ms/step - loss: 0.1216 - accuracy: 0.9629 - val_loss: 0.0767 - val_accuracy: 0.9808\n",
      "Epoch 15/50\n",
      "280/280 [==============================] - 84s 301ms/step - loss: 0.1517 - accuracy: 0.9514 - val_loss: 0.0666 - val_accuracy: 0.9808\n",
      "Epoch 16/50\n",
      "280/280 [==============================] - 85s 303ms/step - loss: 0.1152 - accuracy: 0.9618 - val_loss: 0.0498 - val_accuracy: 0.9833\n",
      "Epoch 17/50\n",
      "280/280 [==============================] - 84s 301ms/step - loss: 0.1215 - accuracy: 0.9643 - val_loss: 0.0594 - val_accuracy: 0.9825\n",
      "Epoch 18/50\n",
      "280/280 [==============================] - 84s 300ms/step - loss: 0.1162 - accuracy: 0.9629 - val_loss: 0.0663 - val_accuracy: 0.9717\n",
      "Epoch 19/50\n",
      "280/280 [==============================] - 86s 307ms/step - loss: 0.1373 - accuracy: 0.9561 - val_loss: 0.0551 - val_accuracy: 0.9850\n",
      "Epoch 20/50\n",
      "280/280 [==============================] - 84s 301ms/step - loss: 0.1399 - accuracy: 0.9557 - val_loss: 0.0593 - val_accuracy: 0.9808\n",
      "Epoch 21/50\n",
      "280/280 [==============================] - 84s 300ms/step - loss: 0.1256 - accuracy: 0.9571 - val_loss: 0.0575 - val_accuracy: 0.9825\n",
      "Epoch 22/50\n",
      "280/280 [==============================] - 85s 304ms/step - loss: 0.1115 - accuracy: 0.9643 - val_loss: 0.0562 - val_accuracy: 0.9858\n",
      "Epoch 23/50\n",
      "280/280 [==============================] - 84s 302ms/step - loss: 0.1026 - accuracy: 0.9643 - val_loss: 0.0451 - val_accuracy: 0.9875\n",
      "Epoch 24/50\n",
      "280/280 [==============================] - 85s 303ms/step - loss: 0.1648 - accuracy: 0.9511 - val_loss: 0.1375 - val_accuracy: 0.9525\n",
      "Epoch 25/50\n",
      "280/280 [==============================] - 85s 304ms/step - loss: 0.1448 - accuracy: 0.9586 - val_loss: 0.0534 - val_accuracy: 0.9825\n",
      "Epoch 26/50\n",
      "280/280 [==============================] - 85s 305ms/step - loss: 0.1323 - accuracy: 0.9625 - val_loss: 0.1336 - val_accuracy: 0.9467\n",
      "Epoch 27/50\n",
      "280/280 [==============================] - 85s 303ms/step - loss: 0.1375 - accuracy: 0.9568 - val_loss: 0.0416 - val_accuracy: 0.9908\n",
      "Epoch 28/50\n",
      "280/280 [==============================] - 86s 305ms/step - loss: 0.1017 - accuracy: 0.9693 - val_loss: 0.0610 - val_accuracy: 0.9817\n",
      "Epoch 29/50\n",
      "280/280 [==============================] - 85s 304ms/step - loss: 0.1094 - accuracy: 0.9657 - val_loss: 0.0447 - val_accuracy: 0.9867\n",
      "Epoch 30/50\n",
      "280/280 [==============================] - 84s 301ms/step - loss: 0.1025 - accuracy: 0.9661 - val_loss: 0.0441 - val_accuracy: 0.9850\n",
      "Epoch 31/50\n",
      "280/280 [==============================] - 85s 304ms/step - loss: 0.0929 - accuracy: 0.9696 - val_loss: 0.0592 - val_accuracy: 0.9792\n",
      "Epoch 32/50\n",
      "280/280 [==============================] - 95s 339ms/step - loss: 0.0953 - accuracy: 0.9682 - val_loss: 0.0626 - val_accuracy: 0.9850\n",
      "Epoch 33/50\n",
      "280/280 [==============================] - 105s 376ms/step - loss: 0.0835 - accuracy: 0.9768 - val_loss: 0.0420 - val_accuracy: 0.9842\n",
      "Epoch 34/50\n",
      "280/280 [==============================] - 101s 359ms/step - loss: 0.0979 - accuracy: 0.9689 - val_loss: 0.0474 - val_accuracy: 0.9875\n",
      "Epoch 35/50\n",
      "280/280 [==============================] - 107s 380ms/step - loss: 0.0962 - accuracy: 0.9632 - val_loss: 0.0463 - val_accuracy: 0.9917\n",
      "Epoch 36/50\n",
      "280/280 [==============================] - 94s 336ms/step - loss: 0.0941 - accuracy: 0.9689 - val_loss: 0.0532 - val_accuracy: 0.9825\n",
      "Epoch 37/50\n",
      "280/280 [==============================] - 95s 340ms/step - loss: 0.0902 - accuracy: 0.9707 - val_loss: 0.0453 - val_accuracy: 0.9833\n",
      "Epoch 38/50\n",
      "280/280 [==============================] - 85s 303ms/step - loss: 0.0789 - accuracy: 0.9696 - val_loss: 0.0346 - val_accuracy: 0.9908\n",
      "Epoch 39/50\n",
      "280/280 [==============================] - 84s 302ms/step - loss: 0.0904 - accuracy: 0.9700 - val_loss: 0.0526 - val_accuracy: 0.9842\n",
      "Epoch 40/50\n",
      "280/280 [==============================] - 94s 334ms/step - loss: 0.0932 - accuracy: 0.9682 - val_loss: 0.0425 - val_accuracy: 0.9850\n",
      "Epoch 41/50\n",
      "280/280 [==============================] - 92s 329ms/step - loss: 0.0894 - accuracy: 0.9707 - val_loss: 0.0520 - val_accuracy: 0.9833\n",
      "Epoch 42/50\n",
      "280/280 [==============================] - 89s 319ms/step - loss: 0.0955 - accuracy: 0.9718 - val_loss: 0.0459 - val_accuracy: 0.9883\n",
      "Epoch 43/50\n",
      "280/280 [==============================] - 85s 304ms/step - loss: 0.0763 - accuracy: 0.9757 - val_loss: 0.0473 - val_accuracy: 0.9850\n",
      "Epoch 44/50\n",
      "280/280 [==============================] - 85s 304ms/step - loss: 0.0867 - accuracy: 0.9725 - val_loss: 0.0465 - val_accuracy: 0.9825\n",
      "Epoch 45/50\n",
      "280/280 [==============================] - 85s 304ms/step - loss: 0.0856 - accuracy: 0.9736 - val_loss: 0.0528 - val_accuracy: 0.9833\n",
      "Epoch 46/50\n",
      "280/280 [==============================] - 86s 308ms/step - loss: 0.0745 - accuracy: 0.9764 - val_loss: 0.0927 - val_accuracy: 0.9733\n",
      "Epoch 47/50\n",
      "280/280 [==============================] - 87s 310ms/step - loss: 0.0865 - accuracy: 0.9689 - val_loss: 0.0471 - val_accuracy: 0.9875\n",
      "Epoch 48/50\n",
      "280/280 [==============================] - 85s 305ms/step - loss: 0.0837 - accuracy: 0.9718 - val_loss: 0.0541 - val_accuracy: 0.9833\n",
      "Epoch 49/50\n",
      "280/280 [==============================] - 85s 304ms/step - loss: 0.0836 - accuracy: 0.9704 - val_loss: 0.0485 - val_accuracy: 0.9883\n",
      "Epoch 50/50\n",
      "280/280 [==============================] - 93s 333ms/step - loss: 0.0699 - accuracy: 0.9732 - val_loss: 0.0682 - val_accuracy: 0.9800\n"
     ]
    }
   ],
   "source": []
  },
  {
   "cell_type": "code",
   "execution_count": 115,
   "metadata": {},
   "outputs": [
    {
     "name": "stdout",
     "output_type": "stream",
     "text": [
      "40/40 [==============================] - 4s 96ms/step - loss: 0.0766 - accuracy: 0.9725\n"
     ]
    },
    {
     "data": {
      "text/plain": [
       "[0.07659434527158737, 0.9725000262260437]"
      ]
     },
     "execution_count": 115,
     "metadata": {},
     "output_type": "execute_result"
    }
   ],
   "source": [
    "model.evaluate(test_generator)"
   ]
  },
  {
   "cell_type": "code",
   "execution_count": 116,
   "metadata": {},
   "outputs": [
    {
     "data": {
      "image/png": "[encoded data removed]",
      "text/plain": [
       "<Figure size 432x288 with 1 Axes>"
      ]
     },
     "metadata": {
      "needs_background": "light"
     },
     "output_type": "display_data"
    }
   ],
   "source": [
    "import matplotlib.pyplot as plt\n",
    "\n",
    "acc = history.history['accuracy']\n",
    "val_acc = history.history['val_accuracy']\n",
    "loss = history.history['loss']\n",
    "val_loss = history.history['val_loss']\n",
    "\n",
    "epochs = range(len(acc))\n",
    "\n",
    "plt.plot(epochs, acc, 'r', label='Training accuracy')\n",
    "plt.plot(epochs, val_acc, 'b', label='Validation accuracy')\n",
    "plt.title('Training and validation accuracy')\n",
    "plt.legend(loc=0)\n",
    "fig = plt.gcf()\n",
    "fig.savefig('from_basic.png',dpi=fig.dpi)\n",
    "plt.show()"
   ]
  },
  {
   "cell_type": "code",
   "execution_count": 117,
   "metadata": {},
   "outputs": [],
   "source": [
    "from keras.models import load_model\n",
    "\n",
    "model.save('C:/Users/USER/Desktop/from_LenetV5.h5')\n",
    "model.save_weights('C:/Users/USER/Desktop/from_LenetV5_weights.h5')"
   ]
  },
  {
   "cell_type": "code",
   "execution_count": null,
   "metadata": {},
   "outputs": [],
   "source": []
  },
  {
   "cell_type": "code",
   "execution_count": null,
   "metadata": {},
   "outputs": [],
   "source": []
  }
 ],
 "metadata": {
  "kernelspec": {
   "display_name": "Python 3",
   "language": "python",
   "name": "python3"
  },
  "language_info": {
   "codemirror_mode": {
    "name": "ipython",
    "version": 3
   },
   "file_extension": ".py",
   "mimetype": "text/x-python",
   "name": "python",
   "nbconvert_exporter": "python",
   "pygments_lexer": "ipython3",
   "version": "3.8.3"
  }
 },
 "nbformat": 4,
 "nbformat_minor": 4
}
