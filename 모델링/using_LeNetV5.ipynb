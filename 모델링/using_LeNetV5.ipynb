{
 "cells": [
  {
   "cell_type": "code",
   "execution_count": 1,
   "metadata": {},
   "outputs": [],
   "source": [
    "import cv2\n",
    "import os\n",
    "import numpy as np\n",
    "np.random.seed(1120)\n",
    "from sklearn.model_selection import train_test_split\n",
    "\n",
    "top_path = 'C:/Users/USER/Desktop/mask_data/' # 안에 chin_mask , full_mask... 로 하위 폴더가 있는 상위 폴더 경로\n",
    "\n",
    "save_path = 'C:/Users/USER/Desktop/save_data/' # 저장할 경로 (안에 빈 train , test 폴더 먼저 만들어 놓고 실행)\n",
    "\n",
    "folders = os.listdir(top_path)\n",
    "\n",
    "for folder in folders:\n",
    "    \n",
    "    files = os.listdir(top_path+folder+'/')\n",
    "    \n",
    "    image_files = [file for file in files if file.endswith(\".png\")]\n",
    "    \n",
    "    image_1000 = image_files[-1000:]\n",
    "    \n",
    "    train,test = train_test_split(image_1000,test_size=0.3)\n",
    "    \n",
    "    for img in train:\n",
    "        original=cv2.imread(top_path+folder+'/'+img)\n",
    "        cv2.imwrite(save_path+'train/'+folder+'/'+img, original.copy())\n",
    "        \n",
    "    for img in test:\n",
    "        original=cv2.imread(top_path+folder+'/'+img)\n",
    "        cv2.imwrite(save_path+'test/'+folder+'/'+img, original.copy())"
   ]
  },
  {
   "cell_type": "code",
   "execution_count": 2,
   "metadata": {},
   "outputs": [],
   "source": [
    "# IMAGE_WIDTH=128\n",
    "# IMAGE_HEIGHT=128\n",
    "# IMAGE_SIZE=(IMAGE_WIDTH, IMAGE_HEIGHT)\n",
    "# IMAGE_CHANNELS=3"
   ]
  },
  {
   "cell_type": "code",
   "execution_count": null,
   "metadata": {},
   "outputs": [],
   "source": []
  },
  {
   "cell_type": "code",
   "execution_count": 23,
   "metadata": {},
   "outputs": [],
   "source": [
    "from keras.preprocessing.image import ImageDataGenerator, load_img\n",
    "from keras.utils import to_categorical\n",
    "from keras.models import Sequential\n",
    "from keras.layers import Dense, Activation, Flatten, Conv2D, MaxPool2D, BatchNormalization, Dropout\n",
    "from keras.optimizers import Adam"
   ]
  },
  {
   "cell_type": "code",
   "execution_count": 41,
   "metadata": {},
   "outputs": [],
   "source": [
    "import pandas as pd"
   ]
  },
  {
   "cell_type": "code",
   "execution_count": 53,
   "metadata": {},
   "outputs": [],
   "source": [
    "filenames=os.listdir(\"C:/Users/USER/Desktop/save_data/train\")\n",
    "categories = []\n",
    "for filename in filenames:\n",
    "    category = filename.split(',')[0]\n",
    "    # print(category)\n",
    "    if category == 'chin_mask':\n",
    "        categories.append(0)\n",
    "    elif category == 'full_mask':\n",
    "        categories.append(1)\n",
    "    elif category == 'nose_mask':\n",
    "        categories.append(2)\n",
    "    elif category == 'no_mask':\n",
    "        categories.append(3)"
   ]
  },
  {
   "cell_type": "code",
   "execution_count": 54,
   "metadata": {},
   "outputs": [],
   "source": [
    "df=pd.DataFrame({\n",
    "    'filename': filenames,\n",
    "    'category' : categories\n",
    "})"
   ]
  },
  {
   "cell_type": "code",
   "execution_count": 55,
   "metadata": {},
   "outputs": [
    {
     "data": {
      "text/html": [
       "<div>\n",
       "<style scoped>\n",
       "    .dataframe tbody tr th:only-of-type {\n",
       "        vertical-align: middle;\n",
       "    }\n",
       "\n",
       "    .dataframe tbody tr th {\n",
       "        vertical-align: top;\n",
       "    }\n",
       "\n",
       "    .dataframe thead th {\n",
       "        text-align: right;\n",
       "    }\n",
       "</style>\n",
       "<table border=\"1\" class=\"dataframe\">\n",
       "  <thead>\n",
       "    <tr style=\"text-align: right;\">\n",
       "      <th></th>\n",
       "      <th>filename</th>\n",
       "      <th>category</th>\n",
       "    </tr>\n",
       "  </thead>\n",
       "  <tbody>\n",
       "    <tr>\n",
       "      <th>0</th>\n",
       "      <td>chin_mask</td>\n",
       "      <td>0</td>\n",
       "    </tr>\n",
       "    <tr>\n",
       "      <th>1</th>\n",
       "      <td>full_mask</td>\n",
       "      <td>1</td>\n",
       "    </tr>\n",
       "    <tr>\n",
       "      <th>2</th>\n",
       "      <td>nose_mask</td>\n",
       "      <td>2</td>\n",
       "    </tr>\n",
       "    <tr>\n",
       "      <th>3</th>\n",
       "      <td>no_mask</td>\n",
       "      <td>3</td>\n",
       "    </tr>\n",
       "  </tbody>\n",
       "</table>\n",
       "</div>"
      ],
      "text/plain": [
       "    filename  category\n",
       "0  chin_mask         0\n",
       "1  full_mask         1\n",
       "2  nose_mask         2\n",
       "3    no_mask         3"
      ]
     },
     "execution_count": 55,
     "metadata": {},
     "output_type": "execute_result"
    }
   ],
   "source": [
    "df"
   ]
  },
  {
   "cell_type": "code",
   "execution_count": null,
   "metadata": {},
   "outputs": [],
   "source": []
  },
  {
   "cell_type": "code",
   "execution_count": 56,
   "metadata": {
    "scrolled": true
   },
   "outputs": [
    {
     "name": "stdout",
     "output_type": "stream",
     "text": [
      "Model: \"sequential_8\"\n",
      "_________________________________________________________________\n",
      "Layer (type)                 Output Shape              Param #   \n",
      "=================================================================\n",
      "conv2d_11 (Conv2D)           (None, 120, 90, 32)       2432      \n",
      "_________________________________________________________________\n",
      "max_pooling2d_8 (MaxPooling2 (None, 60, 45, 32)        0         \n",
      "_________________________________________________________________\n",
      "conv2d_12 (Conv2D)           (None, 56, 41, 48)        38448     \n",
      "_________________________________________________________________\n",
      "max_pooling2d_9 (MaxPooling2 (None, 28, 20, 48)        0         \n",
      "_________________________________________________________________\n",
      "flatten_3 (Flatten)          (None, 26880)             0         \n",
      "_________________________________________________________________\n",
      "dense_8 (Dense)              (None, 256)               6881536   \n",
      "_________________________________________________________________\n",
      "dense_9 (Dense)              (None, 84)                21588     \n",
      "_________________________________________________________________\n",
      "dense_10 (Dense)             (None, 4)                 340       \n",
      "=================================================================\n",
      "Total params: 6,944,344\n",
      "Trainable params: 6,944,344\n",
      "Non-trainable params: 0\n",
      "_________________________________________________________________\n"
     ]
    }
   ],
   "source": [
    "model = Sequential()\n",
    "\n",
    "model.add(Conv2D(filters=32, kernel_size=(5,5), padding='same', activation='relu', input_shape=(120, 90, 3)))\n",
    "model.add(MaxPool2D(strides=2))\n",
    "model.add(Conv2D(filters=48, kernel_size=(5,5), padding='valid', activation='relu'))\n",
    "model.add(MaxPool2D(strides=2))\n",
    "model.add(Flatten())\n",
    "model.add(Dense(256, activation='relu'))\n",
    "model.add(Dense(84, activation='relu'))\n",
    "model.add(Dense(4, activation='softmax'))\n",
    "\n",
    "model.build()\n",
    "model.summary()"
   ]
  },
  {
   "cell_type": "code",
   "execution_count": 57,
   "metadata": {},
   "outputs": [],
   "source": [
    "adam = Adam(lr=5e-4)\n",
    "model.compile(loss='categorical_crossentropy', metrics=['accuracy'], optimizer=adam)"
   ]
  },
  {
   "cell_type": "code",
   "execution_count": 27,
   "metadata": {},
   "outputs": [],
   "source": [
    "# from keras.callbacks import ReduceLROnPlateau"
   ]
  },
  {
   "cell_type": "code",
   "execution_count": 58,
   "metadata": {},
   "outputs": [],
   "source": [
    "from keras.callbacks import EarlyStopping, ReduceLROnPlateau"
   ]
  },
  {
   "cell_type": "code",
   "execution_count": 59,
   "metadata": {},
   "outputs": [],
   "source": [
    "earlystop = EarlyStopping(patience=10)"
   ]
  },
  {
   "cell_type": "code",
   "execution_count": 60,
   "metadata": {},
   "outputs": [],
   "source": [
    "learning_rate_reduction = ReduceLROnPlateau(monitor='val_acc', \n",
    "                                patience=3, \n",
    "                                verbose=1, \n",
    "                                factor=0.2, \n",
    "                                min_lr=1e-6)"
   ]
  },
  {
   "cell_type": "code",
   "execution_count": 61,
   "metadata": {},
   "outputs": [],
   "source": [
    "callbacks = [earlystop, learning_rate_reduction]"
   ]
  },
  {
   "cell_type": "code",
   "execution_count": null,
   "metadata": {},
   "outputs": [],
   "source": []
  },
  {
   "cell_type": "code",
   "execution_count": 66,
   "metadata": {},
   "outputs": [],
   "source": [
    "train_datagen = ImageDataGenerator(rescale = 1/255.,\n",
    "                                  rotation_range=15,\n",
    "                                  width_shift_range=0.1,\n",
    "                                  height_shift_range=0.1,\n",
    "                                  shear_range=0.5,\n",
    "                                  zoom_range=[0.8,2.0],\n",
    "                                  horizontal_flip=True,\n",
    "                                  vertical_flip=True,\n",
    "                                  fill_mode='nearest')\n",
    "test_datagen = ImageDataGenerator(rescale=1/255.)"
   ]
  },
  {
   "cell_type": "code",
   "execution_count": null,
   "metadata": {},
   "outputs": [],
   "source": []
  },
  {
   "cell_type": "code",
   "execution_count": 67,
   "metadata": {},
   "outputs": [
    {
     "name": "stdout",
     "output_type": "stream",
     "text": [
      "Found 2800 images belonging to 4 classes.\n",
      "Found 1200 images belonging to 4 classes.\n"
     ]
    }
   ],
   "source": [
    "train_generator=train_datagen.flow_from_directory(\n",
    "    \"C:/Users/USER/Desktop/save_data/train/\",\n",
    "    batch_size=10,\n",
    "    target_size=(120,90),\n",
    "    class_mode='categorical')\n",
    "\n",
    "validation_generator=test_datagen.flow_from_directory(\n",
    "    \"C:/Users/USER/Desktop/save_data/test/\",\n",
    "    batch_size=10,\n",
    "    target_size=(120,90),\n",
    "    class_mode='categorical')"
   ]
  },
  {
   "cell_type": "code",
   "execution_count": null,
   "metadata": {},
   "outputs": [],
   "source": []
  },
  {
   "cell_type": "code",
   "execution_count": null,
   "metadata": {},
   "outputs": [],
   "source": []
  },
  {
   "cell_type": "code",
   "execution_count": 68,
   "metadata": {},
   "outputs": [
    {
     "name": "stdout",
     "output_type": "stream",
     "text": [
      "Epoch 1/50\n",
      "280/280 [==============================] - 78s 278ms/step - loss: 0.5785 - accuracy: 0.7650 - val_loss: 0.4530 - val_accuracy: 0.8217\n",
      "Epoch 2/50\n",
      "280/280 [==============================] - 66s 235ms/step - loss: 0.3343 - accuracy: 0.8775 - val_loss: 0.3229 - val_accuracy: 0.9067\n",
      "Epoch 3/50\n",
      "280/280 [==============================] - 67s 239ms/step - loss: 0.2705 - accuracy: 0.9089 - val_loss: 0.1244 - val_accuracy: 0.9733\n",
      "Epoch 4/50\n",
      "280/280 [==============================] - 79s 282ms/step - loss: 0.2223 - accuracy: 0.9243 - val_loss: 0.1182 - val_accuracy: 0.9667\n",
      "Epoch 5/50\n",
      "280/280 [==============================] - 85s 305ms/step - loss: 0.2025 - accuracy: 0.9293 - val_loss: 0.1220 - val_accuracy: 0.9600\n",
      "Epoch 6/50\n",
      "280/280 [==============================] - 93s 333ms/step - loss: 0.1919 - accuracy: 0.9375 - val_loss: 0.0946 - val_accuracy: 0.9767\n",
      "Epoch 7/50\n",
      "280/280 [==============================] - 87s 310ms/step - loss: 0.1990 - accuracy: 0.9336 - val_loss: 0.0953 - val_accuracy: 0.9800\n",
      "Epoch 8/50\n",
      "280/280 [==============================] - 87s 311ms/step - loss: 0.1763 - accuracy: 0.9421 - val_loss: 0.1020 - val_accuracy: 0.9783\n",
      "Epoch 9/50\n",
      "280/280 [==============================] - 88s 313ms/step - loss: 0.1590 - accuracy: 0.9479 - val_loss: 0.1139 - val_accuracy: 0.9642\n",
      "Epoch 10/50\n",
      "280/280 [==============================] - 91s 325ms/step - loss: 0.1444 - accuracy: 0.9550 - val_loss: 0.0724 - val_accuracy: 0.9800\n",
      "Epoch 11/50\n",
      "280/280 [==============================] - 89s 317ms/step - loss: 0.1418 - accuracy: 0.9557 - val_loss: 0.0550 - val_accuracy: 0.9825\n",
      "Epoch 12/50\n",
      "280/280 [==============================] - 92s 330ms/step - loss: 0.1483 - accuracy: 0.9514 - val_loss: 0.1210 - val_accuracy: 0.9575\n",
      "Epoch 13/50\n",
      "280/280 [==============================] - 91s 323ms/step - loss: 0.1428 - accuracy: 0.9529 - val_loss: 0.0745 - val_accuracy: 0.9842\n",
      "Epoch 14/50\n",
      "280/280 [==============================] - 84s 301ms/step - loss: 0.1216 - accuracy: 0.9629 - val_loss: 0.0767 - val_accuracy: 0.9808\n",
      "Epoch 15/50\n",
      "280/280 [==============================] - 84s 301ms/step - loss: 0.1517 - accuracy: 0.9514 - val_loss: 0.0666 - val_accuracy: 0.9808\n",
      "Epoch 16/50\n",
      "280/280 [==============================] - 85s 303ms/step - loss: 0.1152 - accuracy: 0.9618 - val_loss: 0.0498 - val_accuracy: 0.9833\n",
      "Epoch 17/50\n",
      "280/280 [==============================] - 84s 301ms/step - loss: 0.1215 - accuracy: 0.9643 - val_loss: 0.0594 - val_accuracy: 0.9825\n",
      "Epoch 18/50\n",
      "280/280 [==============================] - 84s 300ms/step - loss: 0.1162 - accuracy: 0.9629 - val_loss: 0.0663 - val_accuracy: 0.9717\n",
      "Epoch 19/50\n",
      "280/280 [==============================] - 86s 307ms/step - loss: 0.1373 - accuracy: 0.9561 - val_loss: 0.0551 - val_accuracy: 0.9850\n",
      "Epoch 20/50\n",
      "280/280 [==============================] - 84s 301ms/step - loss: 0.1399 - accuracy: 0.9557 - val_loss: 0.0593 - val_accuracy: 0.9808\n",
      "Epoch 21/50\n",
      "280/280 [==============================] - 84s 300ms/step - loss: 0.1256 - accuracy: 0.9571 - val_loss: 0.0575 - val_accuracy: 0.9825\n",
      "Epoch 22/50\n",
      "280/280 [==============================] - 85s 304ms/step - loss: 0.1115 - accuracy: 0.9643 - val_loss: 0.0562 - val_accuracy: 0.9858\n",
      "Epoch 23/50\n",
      "280/280 [==============================] - 84s 302ms/step - loss: 0.1026 - accuracy: 0.9643 - val_loss: 0.0451 - val_accuracy: 0.9875\n",
      "Epoch 24/50\n",
      "280/280 [==============================] - 85s 303ms/step - loss: 0.1648 - accuracy: 0.9511 - val_loss: 0.1375 - val_accuracy: 0.9525\n",
      "Epoch 25/50\n",
      "280/280 [==============================] - 85s 304ms/step - loss: 0.1448 - accuracy: 0.9586 - val_loss: 0.0534 - val_accuracy: 0.9825\n",
      "Epoch 26/50\n",
      "280/280 [==============================] - 85s 305ms/step - loss: 0.1323 - accuracy: 0.9625 - val_loss: 0.1336 - val_accuracy: 0.9467\n",
      "Epoch 27/50\n",
      "280/280 [==============================] - 85s 303ms/step - loss: 0.1375 - accuracy: 0.9568 - val_loss: 0.0416 - val_accuracy: 0.9908\n",
      "Epoch 28/50\n",
      "280/280 [==============================] - 86s 305ms/step - loss: 0.1017 - accuracy: 0.9693 - val_loss: 0.0610 - val_accuracy: 0.9817\n",
      "Epoch 29/50\n",
      "280/280 [==============================] - 85s 304ms/step - loss: 0.1094 - accuracy: 0.9657 - val_loss: 0.0447 - val_accuracy: 0.9867\n",
      "Epoch 30/50\n",
      "280/280 [==============================] - 84s 301ms/step - loss: 0.1025 - accuracy: 0.9661 - val_loss: 0.0441 - val_accuracy: 0.9850\n",
      "Epoch 31/50\n",
      "280/280 [==============================] - 85s 304ms/step - loss: 0.0929 - accuracy: 0.9696 - val_loss: 0.0592 - val_accuracy: 0.9792\n",
      "Epoch 32/50\n",
      "280/280 [==============================] - 95s 339ms/step - loss: 0.0953 - accuracy: 0.9682 - val_loss: 0.0626 - val_accuracy: 0.9850\n",
      "Epoch 33/50\n",
      "280/280 [==============================] - 105s 376ms/step - loss: 0.0835 - accuracy: 0.9768 - val_loss: 0.0420 - val_accuracy: 0.9842\n",
      "Epoch 34/50\n",
      "280/280 [==============================] - 101s 359ms/step - loss: 0.0979 - accuracy: 0.9689 - val_loss: 0.0474 - val_accuracy: 0.9875\n",
      "Epoch 35/50\n",
      "280/280 [==============================] - 107s 380ms/step - loss: 0.0962 - accuracy: 0.9632 - val_loss: 0.0463 - val_accuracy: 0.9917\n",
      "Epoch 36/50\n",
      "280/280 [==============================] - 94s 336ms/step - loss: 0.0941 - accuracy: 0.9689 - val_loss: 0.0532 - val_accuracy: 0.9825\n",
      "Epoch 37/50\n",
      "280/280 [==============================] - 95s 340ms/step - loss: 0.0902 - accuracy: 0.9707 - val_loss: 0.0453 - val_accuracy: 0.9833\n",
      "Epoch 38/50\n",
      "280/280 [==============================] - 85s 303ms/step - loss: 0.0789 - accuracy: 0.9696 - val_loss: 0.0346 - val_accuracy: 0.9908\n",
      "Epoch 39/50\n",
      "280/280 [==============================] - 84s 302ms/step - loss: 0.0904 - accuracy: 0.9700 - val_loss: 0.0526 - val_accuracy: 0.9842\n",
      "Epoch 40/50\n",
      "280/280 [==============================] - 94s 334ms/step - loss: 0.0932 - accuracy: 0.9682 - val_loss: 0.0425 - val_accuracy: 0.9850\n",
      "Epoch 41/50\n",
      "280/280 [==============================] - 92s 329ms/step - loss: 0.0894 - accuracy: 0.9707 - val_loss: 0.0520 - val_accuracy: 0.9833\n",
      "Epoch 42/50\n",
      "280/280 [==============================] - 89s 319ms/step - loss: 0.0955 - accuracy: 0.9718 - val_loss: 0.0459 - val_accuracy: 0.9883\n",
      "Epoch 43/50\n",
      "280/280 [==============================] - 85s 304ms/step - loss: 0.0763 - accuracy: 0.9757 - val_loss: 0.0473 - val_accuracy: 0.9850\n",
      "Epoch 44/50\n",
      "280/280 [==============================] - 85s 304ms/step - loss: 0.0867 - accuracy: 0.9725 - val_loss: 0.0465 - val_accuracy: 0.9825\n",
      "Epoch 45/50\n",
      "280/280 [==============================] - 85s 304ms/step - loss: 0.0856 - accuracy: 0.9736 - val_loss: 0.0528 - val_accuracy: 0.9833\n",
      "Epoch 46/50\n",
      "280/280 [==============================] - 86s 308ms/step - loss: 0.0745 - accuracy: 0.9764 - val_loss: 0.0927 - val_accuracy: 0.9733\n",
      "Epoch 47/50\n",
      "280/280 [==============================] - 87s 310ms/step - loss: 0.0865 - accuracy: 0.9689 - val_loss: 0.0471 - val_accuracy: 0.9875\n",
      "Epoch 48/50\n",
      "280/280 [==============================] - 85s 305ms/step - loss: 0.0837 - accuracy: 0.9718 - val_loss: 0.0541 - val_accuracy: 0.9833\n",
      "Epoch 49/50\n",
      "280/280 [==============================] - 85s 304ms/step - loss: 0.0836 - accuracy: 0.9704 - val_loss: 0.0485 - val_accuracy: 0.9883\n",
      "Epoch 50/50\n",
      "280/280 [==============================] - 93s 333ms/step - loss: 0.0699 - accuracy: 0.9732 - val_loss: 0.0682 - val_accuracy: 0.9800\n"
     ]
    }
   ],
   "source": [
    "history = model.fit(\n",
    "    train_generator,\n",
    "    validation_data = validation_generator,\n",
    "    steps_per_epoch=280,\n",
    "    epochs=50,\n",
    "    validation_steps=120\n",
    ")"
   ]
  },
  {
   "cell_type": "code",
   "execution_count": 69,
   "metadata": {},
   "outputs": [],
   "source": [
    "from keras.models import load_model\n",
    "model.save('C:/Users/USER/Desktop/from_LenetV5.h5')\n",
    "\n"
   ]
  },
  {
   "cell_type": "code",
   "execution_count": null,
   "metadata": {},
   "outputs": [],
   "source": []
  },
  {
   "cell_type": "code",
   "execution_count": null,
   "metadata": {},
   "outputs": [],
   "source": []
  },
  {
   "cell_type": "code",
   "execution_count": null,
   "metadata": {},
   "outputs": [],
   "source": []
  },
  {
   "cell_type": "code",
   "execution_count": null,
   "metadata": {},
   "outputs": [],
   "source": []
  },
  {
   "cell_type": "code",
   "execution_count": null,
   "metadata": {},
   "outputs": [],
   "source": []
  }
 ],
 "metadata": {
  "kernelspec": {
   "display_name": "Python 3",
   "language": "python",
   "name": "python3"
  },
  "language_info": {
   "codemirror_mode": {
    "name": "ipython",
    "version": 3
   },
   "file_extension": ".py",
   "mimetype": "text/x-python",
   "name": "python",
   "nbconvert_exporter": "python",
   "pygments_lexer": "ipython3",
   "version": "3.8.3"
  }
 },
 "nbformat": 4,
 "nbformat_minor": 4
}
