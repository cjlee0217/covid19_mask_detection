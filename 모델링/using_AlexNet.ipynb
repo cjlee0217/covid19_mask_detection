{
 "cells": [
  {
   "cell_type": "code",
   "execution_count": 8,
   "metadata": {},
   "outputs": [],
   "source": [
    "import tensorflow as tf\n",
    "from tensorflow import keras\n",
    "from keras.callbacks import EarlyStopping\n",
    "import matplotlib.pyplot as plt\n",
    "import os\n",
    "import time\n",
    "import numpy as np\n",
    "np.random.seed(1120)\n",
    "from sklearn.model_selection import train_test_split\n",
    "import cv2"
   ]
  },
  {
   "cell_type": "code",
   "execution_count": 9,
   "metadata": {},
   "outputs": [],
   "source": [
    "top_path = \"C:/Users/jw517/mask_detection/final_data/\" # 안에 chin_mask , full_mask... 로 하위 폴더가 있는 상위 폴더 경로\n",
    "\n",
    "save_path = \"C:/Users/jw517/mask_detection/mask/\" # 저장할 경로 (안에 빈 train , test 폴더 먼저 만들어 놓고 실행)\n",
    "\n",
    "folders = os.listdir(top_path)\n",
    "\n",
    "for folder in folders:\n",
    "    \n",
    "    files = os.listdir(top_path+folder+'/')\n",
    "    \n",
    "    image_files = [file for file in files if file.endswith(\".png\")]\n",
    "    \n",
    "    image_1000 = image_files[-1000:]\n",
    "    \n",
    "    train,test = train_test_split(image_1000,test_size=0.1,random_state=1120)\n",
    "    train,validate = train_test_split(train,test_size=(2/9),random_state=1120)\n",
    "    \n",
    "    for img in train:\n",
    "        original=cv2.imread(top_path+folder+'/'+img)\n",
    "        cv2.imwrite(save_path+'train/'+folder+'/'+img, original.copy())\n",
    "        \n",
    "    for img in validate:\n",
    "        original=cv2.imread(top_path+folder+'/'+img)\n",
    "        cv2.imwrite(save_path+'validate/'+folder+'/'+img, original.copy())\n",
    "        \n",
    "    for img in test:\n",
    "        original=cv2.imread(top_path+folder+'/'+img)\n",
    "        cv2.imwrite(save_path+'test/'+folder+'/'+img, original.copy())"
   ]
  },
  {
   "cell_type": "code",
   "execution_count": 11,
   "metadata": {},
   "outputs": [],
   "source": [
    "directory='C:/Users/jw517/mask_detection/mask'"
   ]
  },
  {
   "cell_type": "code",
   "execution_count": 12,
   "metadata": {},
   "outputs": [
    {
     "name": "stdout",
     "output_type": "stream",
     "text": [
      "Found 2800 files belonging to 4 classes.\n"
     ]
    }
   ],
   "source": [
    "train=tf.keras.preprocessing.image_dataset_from_directory(\n",
    "    directory+'/train',\n",
    "    labels=\"inferred\",\n",
    "    label_mode=\"int\",\n",
    "    class_names=['chin_mask', 'full_mask', 'no_mask', 'nose_mask'],\n",
    "    color_mode=\"rgb\",\n",
    "    batch_size=32,\n",
    "    image_size=(227, 227),\n",
    "    shuffle=False,\n",
    "    seed=1120\n",
    ")"
   ]
  },
  {
   "cell_type": "code",
   "execution_count": 13,
   "metadata": {},
   "outputs": [
    {
     "name": "stdout",
     "output_type": "stream",
     "text": [
      "Found 800 files belonging to 4 classes.\n"
     ]
    }
   ],
   "source": [
    "validate=tf.keras.preprocessing.image_dataset_from_directory(\n",
    "    directory+'/validate',\n",
    "    labels=\"inferred\",\n",
    "    label_mode=\"int\",\n",
    "    class_names=['chin_mask', 'full_mask', 'no_mask', 'nose_mask'],\n",
    "    color_mode=\"rgb\",\n",
    "    batch_size=32,\n",
    "    image_size=(227, 227),\n",
    "    shuffle=False,\n",
    "    seed=1120\n",
    ")"
   ]
  },
  {
   "cell_type": "code",
   "execution_count": 14,
   "metadata": {},
   "outputs": [
    {
     "name": "stdout",
     "output_type": "stream",
     "text": [
      "Found 400 files belonging to 4 classes.\n"
     ]
    }
   ],
   "source": [
    "test=tf.keras.preprocessing.image_dataset_from_directory(\n",
    "    directory+'/test',\n",
    "    labels=\"inferred\",\n",
    "    label_mode=\"int\",\n",
    "    class_names=['chin_mask', 'full_mask', 'no_mask', 'nose_mask'],\n",
    "    color_mode=\"rgb\",\n",
    "    batch_size=32,\n",
    "    image_size=(227, 227),\n",
    "    shuffle=False,\n",
    "    seed=1120\n",
    ")"
   ]
  },
  {
   "cell_type": "code",
   "execution_count": 24,
   "metadata": {},
   "outputs": [],
   "source": [
    "model = keras.models.Sequential([\n",
    "    keras.layers.Conv2D(filters=96, kernel_size=(11,11), strides=(4,4), activation='relu', input_shape=(227,227,3)),\n",
    "    keras.layers.BatchNormalization(),\n",
    "    keras.layers.MaxPool2D(pool_size=(3,3), strides=(2,2)),\n",
    "    keras.layers.Conv2D(filters=256, kernel_size=(5,5), strides=(1,1), activation='relu', padding=\"same\"),\n",
    "    keras.layers.BatchNormalization(),\n",
    "    keras.layers.MaxPool2D(pool_size=(3,3), strides=(2,2)),\n",
    "    keras.layers.Conv2D(filters=384, kernel_size=(3,3), strides=(1,1), activation='relu', padding=\"same\"),\n",
    "    keras.layers.BatchNormalization(),\n",
    "    keras.layers.Conv2D(filters=384, kernel_size=(1,1), strides=(1,1), activation='relu', padding=\"same\"),\n",
    "    keras.layers.BatchNormalization(),\n",
    "    keras.layers.Conv2D(filters=256, kernel_size=(1,1), strides=(1,1), activation='relu', padding=\"same\"),\n",
    "    keras.layers.BatchNormalization(),\n",
    "    keras.layers.MaxPool2D(pool_size=(3,3), strides=(2,2)),\n",
    "    keras.layers.Flatten(),\n",
    "    keras.layers.Dense(4096, activation='relu'),\n",
    "    keras.layers.Dropout(0.5),\n",
    "    keras.layers.Dense(4096, activation='relu'),\n",
    "    keras.layers.Dropout(0.5),\n",
    "    keras.layers.Dense(10, activation='softmax')\n",
    "])"
   ]
  },
  {
   "cell_type": "code",
   "execution_count": 25,
   "metadata": {},
   "outputs": [
    {
     "name": "stdout",
     "output_type": "stream",
     "text": [
      "Model: \"sequential_2\"\n",
      "_________________________________________________________________\n",
      "Layer (type)                 Output Shape              Param #   \n",
      "=================================================================\n",
      "conv2d_10 (Conv2D)           (None, 55, 55, 96)        34944     \n",
      "_________________________________________________________________\n",
      "batch_normalization_10 (Batc (None, 55, 55, 96)        384       \n",
      "_________________________________________________________________\n",
      "max_pooling2d_6 (MaxPooling2 (None, 27, 27, 96)        0         \n",
      "_________________________________________________________________\n",
      "conv2d_11 (Conv2D)           (None, 27, 27, 256)       614656    \n",
      "_________________________________________________________________\n",
      "batch_normalization_11 (Batc (None, 27, 27, 256)       1024      \n",
      "_________________________________________________________________\n",
      "max_pooling2d_7 (MaxPooling2 (None, 13, 13, 256)       0         \n",
      "_________________________________________________________________\n",
      "conv2d_12 (Conv2D)           (None, 13, 13, 384)       885120    \n",
      "_________________________________________________________________\n",
      "batch_normalization_12 (Batc (None, 13, 13, 384)       1536      \n",
      "_________________________________________________________________\n",
      "conv2d_13 (Conv2D)           (None, 13, 13, 384)       147840    \n",
      "_________________________________________________________________\n",
      "batch_normalization_13 (Batc (None, 13, 13, 384)       1536      \n",
      "_________________________________________________________________\n",
      "conv2d_14 (Conv2D)           (None, 13, 13, 256)       98560     \n",
      "_________________________________________________________________\n",
      "batch_normalization_14 (Batc (None, 13, 13, 256)       1024      \n",
      "_________________________________________________________________\n",
      "max_pooling2d_8 (MaxPooling2 (None, 6, 6, 256)         0         \n",
      "_________________________________________________________________\n",
      "flatten_2 (Flatten)          (None, 9216)              0         \n",
      "_________________________________________________________________\n",
      "dense_6 (Dense)              (None, 4096)              37752832  \n",
      "_________________________________________________________________\n",
      "dropout_4 (Dropout)          (None, 4096)              0         \n",
      "_________________________________________________________________\n",
      "dense_7 (Dense)              (None, 4096)              16781312  \n",
      "_________________________________________________________________\n",
      "dropout_5 (Dropout)          (None, 4096)              0         \n",
      "_________________________________________________________________\n",
      "dense_8 (Dense)              (None, 10)                40970     \n",
      "=================================================================\n",
      "Total params: 56,361,738\n",
      "Trainable params: 56,358,986\n",
      "Non-trainable params: 2,752\n",
      "_________________________________________________________________\n"
     ]
    }
   ],
   "source": [
    "model.compile(loss='sparse_categorical_crossentropy', optimizer=tf.optimizers.SGD(lr=0.001), metrics=['accuracy'])\n",
    "model.summary()"
   ]
  },
  {
   "cell_type": "code",
   "execution_count": 26,
   "metadata": {},
   "outputs": [],
   "source": [
    "early_stopping=EarlyStopping(monitor='val_loss',mode='min',verbose=1, patience=5)"
   ]
  },
  {
   "cell_type": "code",
   "execution_count": 27,
   "metadata": {},
   "outputs": [
    {
     "name": "stdout",
     "output_type": "stream",
     "text": [
      "Epoch 1/50\n",
      "88/88 - 340s - loss: 0.4408 - accuracy: 0.9464 - val_loss: 2.6968 - val_accuracy: 0.2500\n",
      "Epoch 2/50\n",
      "88/88 - 334s - loss: 0.3615 - accuracy: 0.9475 - val_loss: 2.5861 - val_accuracy: 0.2950\n",
      "Epoch 3/50\n",
      "88/88 - 328s - loss: 0.2911 - accuracy: 0.9482 - val_loss: 2.6728 - val_accuracy: 0.3850\n",
      "Epoch 4/50\n",
      "88/88 - 329s - loss: 0.2356 - accuracy: 0.9514 - val_loss: 2.7653 - val_accuracy: 0.4400\n",
      "Epoch 5/50\n",
      "88/88 - 358s - loss: 0.1787 - accuracy: 0.9539 - val_loss: 2.7154 - val_accuracy: 0.4913\n",
      "Epoch 6/50\n",
      "88/88 - 337s - loss: 0.1736 - accuracy: 0.9579 - val_loss: 2.8806 - val_accuracy: 0.5263\n",
      "Epoch 7/50\n",
      "88/88 - 334s - loss: 0.1323 - accuracy: 0.9668 - val_loss: 1.1312 - val_accuracy: 0.6313\n",
      "Epoch 8/50\n",
      "88/88 - 333s - loss: 0.1194 - accuracy: 0.9643 - val_loss: 1.1323 - val_accuracy: 0.6600\n",
      "Epoch 9/50\n",
      "88/88 - 338s - loss: 0.1109 - accuracy: 0.9682 - val_loss: 0.9319 - val_accuracy: 0.6388\n",
      "Epoch 10/50\n",
      "88/88 - 340s - loss: 0.0963 - accuracy: 0.9714 - val_loss: 0.8491 - val_accuracy: 0.7088\n",
      "Epoch 11/50\n",
      "88/88 - 336s - loss: 0.0852 - accuracy: 0.9729 - val_loss: 0.6347 - val_accuracy: 0.7425\n",
      "Epoch 12/50\n",
      "88/88 - 334s - loss: 0.0851 - accuracy: 0.9743 - val_loss: 0.8928 - val_accuracy: 0.6900\n",
      "Epoch 13/50\n",
      "88/88 - 332s - loss: 0.0773 - accuracy: 0.9768 - val_loss: 0.8168 - val_accuracy: 0.7125\n",
      "Epoch 14/50\n",
      "88/88 - 342s - loss: 0.0688 - accuracy: 0.9775 - val_loss: 0.7224 - val_accuracy: 0.7287\n",
      "Epoch 15/50\n",
      "88/88 - 336s - loss: 0.0612 - accuracy: 0.9793 - val_loss: 0.4930 - val_accuracy: 0.8500\n",
      "Epoch 16/50\n",
      "88/88 - 337s - loss: 0.0536 - accuracy: 0.9829 - val_loss: 0.4223 - val_accuracy: 0.8700\n",
      "Epoch 17/50\n",
      "88/88 - 335s - loss: 0.0490 - accuracy: 0.9854 - val_loss: 0.3901 - val_accuracy: 0.9013\n",
      "Epoch 18/50\n",
      "88/88 - 332s - loss: 0.0426 - accuracy: 0.9843 - val_loss: 0.3701 - val_accuracy: 0.9050\n",
      "Epoch 19/50\n",
      "88/88 - 335s - loss: 0.0395 - accuracy: 0.9861 - val_loss: 0.2872 - val_accuracy: 0.9325\n",
      "Epoch 20/50\n",
      "88/88 - 339s - loss: 0.0339 - accuracy: 0.9896 - val_loss: 0.2008 - val_accuracy: 0.9600\n",
      "Epoch 21/50\n",
      "88/88 - 335s - loss: 0.0256 - accuracy: 0.9911 - val_loss: 0.2583 - val_accuracy: 0.9463\n",
      "Epoch 22/50\n",
      "88/88 - 332s - loss: 0.0325 - accuracy: 0.9896 - val_loss: 0.3472 - val_accuracy: 0.9225\n",
      "Epoch 23/50\n",
      "88/88 - 336s - loss: 0.0281 - accuracy: 0.9896 - val_loss: 0.2024 - val_accuracy: 0.9538\n",
      "Epoch 24/50\n",
      "88/88 - 333s - loss: 0.0277 - accuracy: 0.9914 - val_loss: 0.1935 - val_accuracy: 0.9625\n",
      "Epoch 25/50\n",
      "88/88 - 333s - loss: 0.0226 - accuracy: 0.9925 - val_loss: 0.1556 - val_accuracy: 0.9650\n",
      "Epoch 26/50\n",
      "88/88 - 330s - loss: 0.0179 - accuracy: 0.9943 - val_loss: 0.1499 - val_accuracy: 0.9663\n",
      "Epoch 27/50\n",
      "88/88 - 331s - loss: 0.0222 - accuracy: 0.9943 - val_loss: 0.2277 - val_accuracy: 0.9413\n",
      "Epoch 28/50\n",
      "88/88 - 331s - loss: 0.0197 - accuracy: 0.9925 - val_loss: 0.1632 - val_accuracy: 0.9613\n",
      "Epoch 29/50\n",
      "88/88 - 330s - loss: 0.0189 - accuracy: 0.9943 - val_loss: 0.1912 - val_accuracy: 0.9625\n",
      "Epoch 30/50\n",
      "88/88 - 330s - loss: 0.0134 - accuracy: 0.9961 - val_loss: 0.1594 - val_accuracy: 0.9663\n",
      "Epoch 31/50\n",
      "88/88 - 335s - loss: 0.0133 - accuracy: 0.9957 - val_loss: 0.1357 - val_accuracy: 0.9712\n",
      "Epoch 32/50\n",
      "88/88 - 353s - loss: 0.0133 - accuracy: 0.9961 - val_loss: 0.1463 - val_accuracy: 0.9688\n",
      "Epoch 33/50\n",
      "88/88 - 343s - loss: 0.0118 - accuracy: 0.9964 - val_loss: 0.1411 - val_accuracy: 0.9663\n",
      "Epoch 34/50\n",
      "88/88 - 346s - loss: 0.0114 - accuracy: 0.9957 - val_loss: 0.1383 - val_accuracy: 0.9675\n",
      "Epoch 35/50\n",
      "88/88 - 334s - loss: 0.0117 - accuracy: 0.9961 - val_loss: 0.1218 - val_accuracy: 0.9750\n",
      "Epoch 36/50\n",
      "88/88 - 335s - loss: 0.0088 - accuracy: 0.9982 - val_loss: 0.1149 - val_accuracy: 0.9737\n",
      "Epoch 37/50\n",
      "88/88 - 332s - loss: 0.0082 - accuracy: 0.9971 - val_loss: 0.1575 - val_accuracy: 0.9675\n",
      "Epoch 38/50\n",
      "88/88 - 338s - loss: 0.0098 - accuracy: 0.9964 - val_loss: 0.1190 - val_accuracy: 0.9688\n",
      "Epoch 39/50\n",
      "88/88 - 336s - loss: 0.0069 - accuracy: 0.9986 - val_loss: 0.1007 - val_accuracy: 0.9750\n",
      "Epoch 40/50\n",
      "88/88 - 336s - loss: 0.0087 - accuracy: 0.9979 - val_loss: 0.1110 - val_accuracy: 0.9725\n",
      "Epoch 41/50\n",
      "88/88 - 339s - loss: 0.0091 - accuracy: 0.9982 - val_loss: 0.1070 - val_accuracy: 0.9750\n",
      "Epoch 42/50\n",
      "88/88 - 337s - loss: 0.0082 - accuracy: 0.9971 - val_loss: 0.1099 - val_accuracy: 0.9737\n",
      "Epoch 43/50\n",
      "88/88 - 334s - loss: 0.0055 - accuracy: 0.9993 - val_loss: 0.1026 - val_accuracy: 0.9750\n",
      "Epoch 44/50\n",
      "88/88 - 333s - loss: 0.0098 - accuracy: 0.9979 - val_loss: 0.1112 - val_accuracy: 0.9775\n",
      "Epoch 00044: early stopping\n"
     ]
    }
   ],
   "source": [
    "hist=model.fit(train,\n",
    "          epochs=50,\n",
    "          validation_data=validate,\n",
    "          validation_freq=1,\n",
    "          callbacks=[early_stopping],\n",
    "          verbose=2\n",
    ")"
   ]
  },
  {
   "cell_type": "code",
   "execution_count": 28,
   "metadata": {},
   "outputs": [],
   "source": [
    "model.save('from_AlexNet.h5')"
   ]
  },
  {
   "cell_type": "code",
   "execution_count": 31,
   "metadata": {},
   "outputs": [
    {
     "data": {
      "text/plain": [
       "<tensorflow.python.keras.callbacks.History at 0x230984fc2b0>"
      ]
     },
     "execution_count": 31,
     "metadata": {},
     "output_type": "execute_result"
    }
   ],
   "source": [
    "hist"
   ]
  },
  {
   "cell_type": "code",
   "execution_count": 36,
   "metadata": {},
   "outputs": [
    {
     "data": {
      "image/png": "[encoded data removed]",
      "text/plain": [
       "<Figure size 432x288 with 1 Axes>"
      ]
     },
     "metadata": {
      "needs_background": "light"
     },
     "output_type": "display_data"
    },
    {
     "data": {
      "text/plain": [
       "<Figure size 432x288 with 0 Axes>"
      ]
     },
     "metadata": {},
     "output_type": "display_data"
    }
   ],
   "source": [
    "acc = hist.history['accuracy']\n",
    "val_acc = hist.history['val_accuracy']\n",
    "loss = hist.history['loss']\n",
    "val_loss = hist.history['val_loss']\n",
    "\n",
    "epochs = range(len(acc))\n",
    "\n",
    "plt.plot(epochs, acc, 'r', label='Training accuracy')\n",
    "plt.plot(epochs, val_acc, 'b', label='Validation accuracy')\n",
    "plt.title('Training and validation accuracy')\n",
    "plt.legend(loc=0)\n",
    "plt.figure()\n",
    "plt.savefig('AlexNet_accuracy')\n",
    "plt.show()"
   ]
  }
 ],
 "metadata": {
  "kernelspec": {
   "display_name": "Python 3",
   "language": "python",
   "name": "python3"
  },
  "language_info": {
   "codemirror_mode": {
    "name": "ipython",
    "version": 3
   },
   "file_extension": ".py",
   "mimetype": "text/x-python",
   "name": "python",
   "nbconvert_exporter": "python",
   "pygments_lexer": "ipython3",
   "version": "3.7.3"
  }
 },
 "nbformat": 4,
 "nbformat_minor": 2
}
